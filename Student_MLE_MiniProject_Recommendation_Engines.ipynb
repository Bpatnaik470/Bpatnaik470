{
  "nbformat": 4,
  "nbformat_minor": 0,
  "metadata": {
    "colab": {
      "provenance": [],
      "include_colab_link": true
    },
    "kernelspec": {
      "name": "python3",
      "display_name": "Python 3"
    },
    "language_info": {
      "name": "python"
    }
  },
  "cells": [
    {
      "cell_type": "markdown",
      "metadata": {
        "id": "view-in-github",
        "colab_type": "text"
      },
      "source": [
        "<a href=\"https://colab.research.google.com/github/Bpatnaik470/Bpatnaik470/blob/main/Student_MLE_MiniProject_Recommendation_Engines.ipynb\" target=\"_parent\"><img src=\"https://colab.research.google.com/assets/colab-badge.svg\" alt=\"Open In Colab\"/></a>"
      ]
    },
    {
      "cell_type": "markdown",
      "source": [
        "# Mini Project: Recommendation Engines\n",
        "\n",
        "Recommendation engines are algorithms designed to provide personalized suggestions or recommendations to users. These systems analyze user behavior, preferences, and interactions with items (products, movies, music, articles, etc.) to predict and offer items that users are likely to be interested in. Recommendation engines play a crucial role in enhancing user experience, driving engagement, and increasing conversion rates in various applications, including e-commerce, entertainment, content platforms, and more.\n",
        "\n",
        "There are generally two approaches taken in collaborative filtering and content-based recommendation engines:\n",
        "\n",
        "**1. Collaborative Filtering:**\n",
        "Collaborative Filtering is a popular approach to building recommendation systems that leverages the collective behavior of users to make personalized recommendations. It is based on the idea that users who have agreed in the past will likely agree in the future. There are two main types of collaborative filtering:\n",
        "\n",
        "- **User-based Collaborative Filtering:** This method finds users similar to the target user based on their past interactions (e.g., ratings or purchases). It then recommends items that similar users have liked but the target user has not interacted with yet.\n",
        "\n",
        "- **Item-based Collaborative Filtering:** In this approach, the system identifies similar items based on user interactions. It recommends items that are similar to the ones the target user has already liked or interacted with.\n",
        "\n",
        "Collaborative filtering does not require any explicit information about items but relies on the similarity between users or items. It is effective in capturing complex patterns and can provide serendipitous recommendations. However, it suffers from the cold-start problem (i.e., difficulty in recommending to new users or items with no interactions) and scalability challenges in large datasets.\n",
        "\n",
        "**2. Content-Based Recommendation:**\n",
        "Content-based recommendation is an alternative approach to building recommendation systems that focuses on the attributes or features of items and users. It leverages the characteristics of items to make recommendations. The key steps involved in content-based recommendation are:\n",
        "\n",
        "- **Feature Extraction:** For each item, relevant features are extracted. For movies, these features could be genre, director, actors, and plot summary.\n",
        "\n",
        "- **User Profile:** A user profile is created based on the items they have interacted with in the past. The user profile contains the weighted importance of features based on their interactions.\n",
        "\n",
        "- **Similarity Calculation:** The similarity between items or between items and the user profile is calculated using similarity metrics like cosine similarity or Euclidean distance.\n",
        "\n",
        "- **Recommendation:** Items that are most similar to the user profile are recommended to the user.\n",
        "\n",
        "Content-based recommendation systems are less affected by the cold-start problem as they can still recommend items based on their features. They are also more interpretable as they rely on item attributes. However, they may miss out on providing serendipitous recommendations and can be limited by the quality of feature extraction and user profiles.\n",
        "\n",
        "**Choosing Between Collaborative Filtering and Content-Based:**\n",
        "Both collaborative filtering and content-based approaches have their strengths and weaknesses. The choice between them depends on the specific requirements of the recommendation system, the type of data available, and the user base. Hybrid approaches that combine collaborative filtering and content-based techniques are also common, aiming to leverage the strengths of both methods and mitigate their weaknesses."
      ],
      "metadata": {
        "id": "fyXucUekO19i"
      }
    },
    {
      "cell_type": "markdown",
      "source": [
        "In this mini-project, you'll be building both content based and collaborative filtering engines for the [MovieLens 25M dataset](https://grouplens.org/datasets/movielens/25m/). The MovieLens 25M dataset is one of the most widely used and popular datasets for building and evaluating recommendation systems. It is provided by the GroupLens Research project, which collects and studies datasets related to movie ratings and recommendations. The MovieLens 25M dataset contains movie ratings and other related information contributed by users of the MovieLens website.\n",
        "\n",
        "**Dataset Details:**\n",
        "- **Size:** The dataset contains approximately 25 million movie ratings.\n",
        "- **Users:** It includes ratings from over 162,000 users.\n",
        "- **Movies:** The dataset consists of ratings for more than 62,000 movies.\n",
        "- **Ratings:** The ratings are provided on a scale of 1 to 5, where 1 is the lowest rating and 5 is the highest.\n",
        "- **Timestamps:** Each rating is associated with a timestamp, indicating when the rating was given.\n",
        "\n",
        "**Data Files:**\n",
        "The dataset is usually split into three CSV files:\n",
        "\n",
        "1. **movies.csv:** Contains information about movies, including the movie ID, title, genres, and release year.\n",
        "   - Columns: movieId, title, genres\n",
        "\n",
        "2. **ratings.csv:** Contains movie ratings provided by users, including the user ID, movie ID, rating, and timestamp.\n",
        "   - Columns: userId, movieId, rating, timestamp\n",
        "\n",
        "3. **tags.csv:** Contains user-generated tags for movies, including the user ID, movie ID, tag, and timestamp.\n",
        "   - Columns: userId, movieId, tag, timestamp"
      ],
      "metadata": {
        "id": "TYuE9O6I2uRY"
      }
    },
    {
      "cell_type": "markdown",
      "source": [
        "First, import all the libraries you'll need."
      ],
      "metadata": {
        "id": "DN0qzP-cRlMo"
      }
    },
    {
      "cell_type": "code",
      "execution_count": 1,
      "metadata": {
        "id": "kLWR1DfQPakn"
      },
      "outputs": [],
      "source": [
        "import zipfile\n",
        "import numpy as np\n",
        "import pandas as pd\n",
        "from urllib.request import urlretrieve\n",
        "from sklearn.metrics.pairwise import cosine_similarity"
      ]
    },
    {
      "cell_type": "markdown",
      "source": [
        "Next, download the relevant components of the MoveLens dataset. Note, these instructions are roughly based on the colab [here](https://colab.research.google.com/github/google/eng-edu/blob/main/ml/recommendation-systems/recommendation-systems.ipynb?utm_source=ss-recommendation-systems&utm_campaign=colab-external&utm_medium=referral&utm_content=recommendation-systems#scrollTo=O3bcgduFo4s6)."
      ],
      "metadata": {
        "id": "iaG6vAKyREej"
      }
    },
    {
      "cell_type": "code",
      "source": [
        "print(\"Downloading movielens data...\")\n",
        "\n",
        "urlretrieve('http://files.grouplens.org/datasets/movielens/ml-100k.zip', 'movielens.zip')\n",
        "zip_ref = zipfile.ZipFile('movielens.zip', 'r')\n",
        "zip_ref.extractall()\n",
        "print(\"Done. Dataset contains:\")\n",
        "print(zip_ref.read('ml-100k/u.info'))\n",
        "\n",
        "ratings_cols = ['user_id', 'movie_id', 'rating', 'unix_timestamp']\n",
        "ratings = pd.read_csv(\n",
        "    'ml-100k/u.data', sep='\\t', names=ratings_cols, encoding='latin-1')\n",
        "\n",
        "# The movies file contains a binary feature for each genre.\n",
        "genre_cols = [\n",
        "    \"genre_unknown\", \"Action\", \"Adventure\", \"Animation\", \"Children\", \"Comedy\",\n",
        "    \"Crime\", \"Documentary\", \"Drama\", \"Fantasy\", \"Film-Noir\", \"Horror\",\n",
        "    \"Musical\", \"Mystery\", \"Romance\", \"Sci-Fi\", \"Thriller\", \"War\", \"Western\"\n",
        "]\n",
        "movies_cols = [\n",
        "    'movie_id', 'title', 'release_date', \"video_release_date\", \"imdb_url\"\n",
        "] + genre_cols\n",
        "movies = pd.read_csv(\n",
        "    'ml-100k/u.item', sep='|', names=movies_cols, encoding='latin-1')"
      ],
      "metadata": {
        "id": "-wCvx2ukPm-3",
        "outputId": "b643ce6c-8b55-47db-b4a3-ba4a7c81ff94",
        "colab": {
          "base_uri": "https://localhost:8080/"
        }
      },
      "execution_count": 2,
      "outputs": [
        {
          "output_type": "stream",
          "name": "stdout",
          "text": [
            "Downloading movielens data...\n",
            "Done. Dataset contains:\n",
            "b'943 users\\n1682 items\\n100000 ratings\\n'\n"
          ]
        }
      ]
    },
    {
      "cell_type": "markdown",
      "source": [
        "Before doing any kind of machine learning, it's always good to familiarize yourself with the datasets you'lll be working with.\n",
        "\n",
        "Here are your tasks:\n",
        "\n",
        "1. Spend some time familiarizing yourself with both the `movies` and `ratings` dataframes. How many unique user ids are present? How many unique movies are there?\n",
        "2. Create a new dataframe that merges the `movies` and `ratings` tables on 'movie_id'. Only keep the 'user_id', 'title', 'rating' fields in this new dataframe."
      ],
      "metadata": {
        "id": "pLAMVhnbR-Cy"
      }
    },
    {
      "cell_type": "code",
      "source": [
        "# Spend some time familiarizing yourself with both the movies and ratings\n",
        "# dataframes. How many unique user ids are present? How many unique movies\n",
        "# are there?"
      ],
      "metadata": {
        "id": "vp7Tx7H_P5f2"
      },
      "execution_count": null,
      "outputs": []
    },
    {
      "cell_type": "code",
      "source": [
        "# prompt: How many unique user ids are present? How many unique movies\n",
        "# # are there?\n",
        "\n",
        "# Number of unique user ids\n",
        "n_users = ratings.user_id.nunique()\n",
        "print('Number of unique users:', n_users)\n",
        "\n",
        "# Number of unique movies\n",
        "n_movies = ratings.movie_id.nunique()\n",
        "print('Number of unique movies:', n_movies)\n"
      ],
      "metadata": {
        "id": "Wsg8rulcUJ1p",
        "outputId": "2a1c3fd0-c683-497c-a8e8-0769e28410ae",
        "colab": {
          "base_uri": "https://localhost:8080/"
        }
      },
      "execution_count": 3,
      "outputs": [
        {
          "output_type": "stream",
          "name": "stdout",
          "text": [
            "Number of unique users: 943\n",
            "Number of unique movies: 1682\n"
          ]
        }
      ]
    },
    {
      "cell_type": "code",
      "source": [
        "# Merge movies and ratings dataframes"
      ],
      "metadata": {
        "id": "f6MrymMJRMjB"
      },
      "execution_count": null,
      "outputs": []
    },
    {
      "cell_type": "code",
      "source": [
        "# prompt: Merge movies and ratings dataframes\n",
        "\n",
        "import pandas as pd\n",
        "movie_ratings = pd.merge(movies, ratings, on='movie_id')[['user_id', 'title', 'rating']]\n"
      ],
      "metadata": {
        "id": "xGNc1OYdUasN"
      },
      "execution_count": 9,
      "outputs": []
    },
    {
      "cell_type": "markdown",
      "source": [
        "As mentioned in the introduction, content-Based Filtering is a recommendation engine approach that focuses on the attributes or features of items (products, movies, music, articles, etc.) and leverages these features to make personalized recommendations. The underlying idea is to match the characteristics of items with the preferences of users to suggest items that align with their interests. Content-based filtering is particularly useful when explicit user-item interactions (e.g., ratings or purchases) are sparse or unavailable.\n",
        "\n",
        "**Key Steps in Content-Based Filtering:**\n",
        "\n",
        "1. **Feature Extraction:**\n",
        "   - For each item, relevant features are extracted. These features are typically descriptive attributes that can be represented numerically, such as genre, director, actors, author, publication date, and keywords.\n",
        "   - In the case of text-based items, natural language processing techniques may be used to extract features like TF-IDF (Term Frequency-Inverse Document Frequency) scores.\n",
        "\n",
        "2. **User Profile Creation:**\n",
        "   - A user profile is created based on the items they have interacted with in the past. The user profile contains the weighted importance of features based on their interactions.\n",
        "   - For example, if a user has watched several action movies, the action genre feature would receive a higher weight in their profile.\n",
        "\n",
        "3. **Similarity Calculation:**\n",
        "   - The similarity between items or between items and the user profile is calculated using similarity metrics like cosine similarity, Euclidean distance, or Pearson correlation.\n",
        "   - Cosine similarity is commonly used as it measures the cosine of the angle between two vectors, which represents their similarity.\n",
        "\n",
        "4. **Recommendation:**\n",
        "   - Items that are most similar to the user profile are recommended to the user. These are items whose features have the highest similarity scores with the user profile.\n",
        "   - The recommended items are presented as a list sorted by their similarity scores.\n",
        "\n",
        "**Advantages of Content-Based Filtering:**\n",
        "1. **No Cold-Start Problem:** Content-based filtering can make recommendations even for new users with no historical interactions because it relies on item features rather than user history.\n",
        "\n",
        "2. **User Independence:** The recommendations are based solely on the features of items and do not require knowledge of other users' preferences or behavior.\n",
        "\n",
        "3. **Transparency:** Content-based recommendations are interpretable, as they depend on the features of items, making it easier for users to understand why specific items are recommended.\n",
        "\n",
        "4. **Serendipity:** Content-based filtering can recommend items with characteristics not seen before by the user, leading to serendipitous discoveries.\n",
        "\n",
        "5. **Diversity in Recommendations:** The method can offer diverse recommendations since it suggests items with different feature combinations.\n",
        "\n",
        "**Limitations of Content-Based Filtering:**\n",
        "1. **Limited Discovery:** Content-based filtering may struggle to recommend items outside the scope of users' historical interactions or interests.\n",
        "\n",
        "2. **Over-Specialization:** Users may receive recommendations that are too similar to their previous choices, leading to a lack of exposure to new item categories.\n",
        "\n",
        "3. **Dependency on Feature Quality:** The quality and relevance of item features significantly influence the quality of recommendations.\n",
        "\n",
        "4. **Limited for Cold Items:** Content-based filtering can struggle to recommend new items with limited feature information."
      ],
      "metadata": {
        "id": "_U44W0TMT3qf"
      }
    },
    {
      "cell_type": "markdown",
      "source": [
        "Here is your task:\n",
        "\n",
        "1. Write a function that takes in a user id and the dataframe you created before that contains 'user_id', 'title', and 'rating'. The function should return content-based recommendations for this user. Here are steps you can take:\n",
        "\n",
        "  A. Get the user's rated movies\n",
        "\n",
        "  B. Create a TF-IDF matrix using movie genres. Note, this can be extracted from the `movies` dataframe.\n",
        "\n",
        "  C. Compute the cosine similarity between movie genres. Use the [cosine_similarity](https://scikit-learn.org/stable/modules/generated/sklearn.metrics.pairwise.cosine_similarity.html) function.\n",
        "\n",
        "  D. Get the indices of similar movies to those rated by the user based on cosine similarity. Keep only the top 5.\n",
        "\n",
        "  E. Remove duplicates and movies already rated by the user."
      ],
      "metadata": {
        "id": "sbJGD7j7Ui-8"
      }
    },
    {
      "cell_type": "code",
      "source": [
        "# Content-Based Filtering using Movie Genres\n",
        "def content_based_recommendation(user_id, df):\n",
        "    # Get the user's rated movies\n",
        "    user_rated_movies = df[df['user_id'] == user_id]\n",
        "    # Create a TF-IDF matrix using movie genres\n",
        "    # prompt: Create a TF-IDF matrix using movie genres\n",
        "\n",
        "    from sklearn.feature_extraction.text import TfidfVectorizer\n",
        "\n",
        "    # Create a TF-IDF matrix using movie genres\n",
        "    tfidf = TfidfVectorizer()\n",
        "    tfidf_matrix = tfidf.fit_transform(movies['genres'])\n",
        "\n",
        "    # Compute the cosine similarity between movie genres\n",
        "    # Compute the cosine similarity between movie genres\n",
        "    cosine_sim = cosine_similarity(tfidf_matrix, tfidf_matrix)\n",
        "    # Get the indices of the similar movies based on cosine similarity\n",
        "    # Get the indices of similar movies to those rated by the user based on cosine similarity\n",
        "    movie_indices = []\n",
        "    for movie_title in user_rated_movies['title']:\n",
        "        idx = movies[movies['title'] == movie_title].index[0]\n",
        "        similar_movies = list(enumerate(cosine_sim[idx]))\n",
        "        similar_movies = sorted(similar_movies, key=lambda x: x[1], reverse=True)\n",
        "        similar_movies = similar_movies[1:6]  # Keep only the top 5\n",
        "        movie_indices.extend([i[0] for i in similar_movies])\n",
        "    # Remove duplicates and movies already rated by the user\n",
        "    # Remove duplicates and movies already rated by the user\n",
        "    movie_indices = list(set(movie_indices))\n",
        "    recommended_movies = movies.iloc[movie_indices]\n",
        "    recommended_movies = recommended_movies[~recommended_movies['title'].isin(user_rated_movies['title'])]\n",
        "    return recommended_movies"
      ],
      "metadata": {
        "id": "JwBQSC-POTzn"
      },
      "execution_count": 11,
      "outputs": []
    },
    {
      "cell_type": "markdown",
      "source": [
        "The key idea behind collaborative filtering is that users who have agreed in the past will likely agree in the future. Instead of relying on item attributes or user profiles, collaborative filtering identifies patterns of user behavior and item preferences from the interactions present in the data.\n",
        "\n",
        "**Types of Collaborative Filtering:**\n",
        "There are two main types of collaborative filtering:\n",
        "\n",
        "**Collaborative Filtering Process:**\n",
        "The collaborative filtering process typically involves the following steps:\n",
        "\n",
        "1. **Data Collection:**\n",
        "   - Gather data on user-item interactions, such as movie ratings, product purchases, or article clicks.\n",
        "\n",
        "2. **User-Item Matrix:**\n",
        "   - Organize the data into a user-item matrix, where rows represent users, columns represent items, and the entries contain the users' interactions (e.g., ratings).\n",
        "\n",
        "3. **Similarity Calculation:**\n",
        "   - Calculate the similarity between users or items using similarity metrics such as cosine similarity, Pearson correlation, or Jaccard similarity.\n",
        "   - For user-based collaborative filtering, user similarities are calculated, and for item-based collaborative filtering, item similarities are calculated.\n",
        "\n",
        "4. **Neighborhood Selection:**\n",
        "   - For each user or item, select the most similar users or items as the neighborhood.\n",
        "   - The size of the neighborhood (the number of similar users or items to consider) is an important parameter to control the system's behavior.\n",
        "\n",
        "5. **Prediction Generation:**\n",
        "   - Predict the ratings for items that the target user has not yet interacted with by combining the ratings of neighboring users or items.\n",
        "\n",
        "6. **Recommendation Generation:**\n",
        "   - Recommend items with the highest predicted ratings to the target user.\n",
        "\n",
        "**Advantages of Collaborative Filtering using User-Item Interactions:**\n",
        "- Collaborative filtering is based solely on user interactions and does not require knowledge of item attributes, making it useful for cases where item data is sparse or unavailable.\n",
        "- It can provide serendipitous recommendations, suggesting items that users may not have discovered on their own.\n",
        "- Collaborative filtering can be applied in various domains, including e-commerce, music, movie, and content recommendations.\n",
        "\n",
        "**Limitations of Collaborative Filtering:**\n",
        "- The cold-start problem: Collaborative filtering struggles to recommend to new users or items with no or limited interaction history.\n",
        "- It may suffer from sparsity when data is limited or when users have only interacted with a small subset of items.\n",
        "- Scalability issues can arise with large datasets and an increasing number of users or items."
      ],
      "metadata": {
        "id": "2NNt3gHLYDxU"
      }
    },
    {
      "cell_type": "markdown",
      "source": [
        "Here is your task:\n",
        "\n",
        "1. Write a function that takes in a user id and the dataframe you created before that contains 'user_id', 'title', and 'rating'. The function should return collaborative filtering recommendations for this user based on a user-item interaction matrix. Here are steps you can take:\n",
        "\n",
        "  A. Create the user-item matrix using Pandas' [pivot_table](https://pandas.pydata.org/docs/reference/api/pandas.pivot_table.html).\n",
        "\n",
        "  B. Fill missing values with zeros in this matrix.\n",
        "\n",
        "  C. Calculate user-user similarity matrix using cosine similarity.\n",
        "\n",
        "  D. Get the array of similarity scores of the target user with all other users from the similarity matrix.\n",
        "\n",
        "  E. Extract, say the the top 5 most similar users (excluding the target user).\n",
        "\n",
        "  F. Generate movie recommendations based on the most similar users.\n",
        "\n",
        "  G. Remove duplicate movies recommendations."
      ],
      "metadata": {
        "id": "ks4mWyCaYVNY"
      }
    },
    {
      "cell_type": "code",
      "source": [
        "# Collaborative Filtering using User-Item Interactions\n",
        "def collaborative_filtering_recommendation(user_id, df):\n",
        "  # Create the user-item matrix\n",
        "  user_item_matrix = df.pivot_table(index='user_id', columns='title', values='rating')\n",
        "\n",
        "  # Fill missing values with 0 (indicating no rating)\n",
        "  user_item_matrix = user_item_matrix.fillna(0)\n",
        "\n",
        "  # Calculate user-user similarity matrix using cosine similarity\n",
        "  from sklearn.metrics.pairwise import cosine_similarity #Import the cosine_similarity function\n",
        "  user_similarity = cosine_similarity(user_item_matrix)\n",
        "\n",
        "  # Get the similarity scores of the target user with all other users\n",
        "  target_user_similarity = user_similarity[user_id - 1]\n",
        "\n",
        "  # Find the top N most similar users (excluding the target user)\n",
        "  import numpy as np\n",
        "  top_similar_users = np.argsort(target_user_similarity)[::-1][1:6]\n",
        "\n",
        "  # Generate movie recommendations based on the most similar users\n",
        "  recommendations = []\n",
        "  for similar_user in top_similar_users:\n",
        "      similar_user_ratings = user_item_matrix.iloc[similar_user]\n",
        "      for movie, rating in similar_user_ratings.items():\n",
        "          if rating > 3 and movie not in df[df['user_id'] == user_id]['title'].values:\n",
        "              recommendations.append(movie)\n",
        "  recommendations = list(set(recommendations))\n",
        "  return recommendations\n",
        "\n",
        "  # Remove duplicates from recommendations\n",
        "  recommendations = list(set(recommendations))\n",
        "  return recommendations"
      ],
      "metadata": {
        "id": "BqZPgKRDWf-c"
      },
      "execution_count": 16,
      "outputs": []
    },
    {
      "cell_type": "markdown",
      "source": [
        "Now, test your recommendations engines! Select a few user ids and generate recommendations using both functions you've written. Are the recommendations similar? Do the recommendations make sense?"
      ],
      "metadata": {
        "id": "-Jj883VAZRNe"
      }
    },
    {
      "cell_type": "code",
      "source": [
        "# Test the recommendation engines\n",
        "user_id = 10\n",
        "if 'genres' in movies.columns:\n",
        "    tfidf_matrix = tfidf.fit_transform(movies['genres'])\n",
        "    content_based_recs = content_based_recommendation(user_id, movie_ratings)\n",
        "    print(f\"Content-based recommendations for user {user_id}:\")\n",
        "    print(content_based_recs)\n",
        "else:\n",
        "    # Handle the case where 'genres' column is missing\n",
        "    # For example, you could skip this step or use a different column\n",
        "    print(\"Warning: 'genres' column not found in DataFrame.\")\n",
        "    tfidf_matrix = None\n",
        "\n",
        "collaborative_recs = collaborative_filtering_recommendation(user_id, movie_ratings)\n",
        "print(f\"\\nCollaborative filtering recommendations for user {user_id}:\")\n",
        "print(collaborative_recs)"
      ],
      "metadata": {
        "id": "kt9nuOTNJXz8",
        "outputId": "4e1b0aeb-4407-4274-dc61-c2315393687b",
        "colab": {
          "base_uri": "https://localhost:8080/"
        }
      },
      "execution_count": 19,
      "outputs": [
        {
          "output_type": "stream",
          "name": "stdout",
          "text": [
            "Warning: 'genres' column not found in DataFrame.\n",
            "\n",
            "Collaborative filtering recommendations for user 10:\n",
            "['Spellbound (1945)', 'My Fair Lady (1964)', 'Angels and Insects (1995)', 'Boot, Das (1981)', 'In the Company of Men (1997)', 'Rebecca (1940)', 'Face/Off (1997)', 'True Romance (1993)', 'Richard III (1995)', 'Bullets Over Broadway (1994)', 'Die xue shuang xiong (Killer, The) (1989)', 'Pather Panchali (1955)', 'Ben-Hur (1959)', 'Return of Martin Guerre, The (Retour de Martin Guerre, Le) (1982)', 'So Dear to My Heart (1949)', 'Terminator 2: Judgment Day (1991)', 'Alien 3 (1992)', 'This Is Spinal Tap (1984)', 'My Man Godfrey (1936)', 'Manon of the Spring (Manon des sources) (1986)', 'Fugitive, The (1993)', 'Right Stuff, The (1983)', 'Pollyanna (1960)', 'Wrong Trousers, The (1993)', 'Professional, The (1994)', 'Henry V (1989)', 'Princess Bride, The (1987)', 'Ran (1985)', \"Breakfast at Tiffany's (1961)\", 'Cook the Thief His Wife & Her Lover, The (1989)', 'Scream (1996)', 'Aladdin (1992)', 'Murder, My Sweet (1944)', 'Thirty-Two Short Films About Glenn Gould (1993)', 'Inspector General, The (1949)', 'Seventh Seal, The (Sjunde inseglet, Det) (1957)', 'Birdcage, The (1996)', 'Vanya on 42nd Street (1994)', 'Return of the Pink Panther, The (1974)', 'Nosferatu (Nosferatu, eine Symphonie des Grauens) (1922)', 'Ice Storm, The (1997)', 'Withnail and I (1987)', 'Deconstructing Harry (1997)', 'Cable Guy, The (1996)', 'Secret Garden, The (1993)', 'Clerks (1994)', 'Meet Me in St. Louis (1944)', 'Young Frankenstein (1974)', 'Rudy (1993)', 'Raise the Red Lantern (1991)', 'To Die For (1995)', 'White Squall (1996)', 'Dolores Claiborne (1994)', 'Of Human Bondage (1934)', 'Last Supper, The (1995)', 'Harold and Maude (1971)', 'Godfather: Part II, The (1974)', 'Crimson Tide (1995)', 'Indiana Jones and the Last Crusade (1989)', \"Mr. Holland's Opus (1995)\", 'Boys, Les (1997)', 'Wings of Desire (1987)', 'Killing Zoe (1994)', 'Traveller (1997)', 'Mediterraneo (1991)', 'Koyaanisqatsi (1983)', 'Garden of Finzi-Contini, The (Giardino dei Finzi-Contini, Il) (1970)', 'Dumbo (1941)', 'Mask, The (1994)', 'Tin Cup (1996)', 'Wag the Dog (1997)', 'City of Lost Children, The (1995)', 'Lion King, The (1994)', 'Truth About Cats & Dogs, The (1996)', 'Heathers (1989)', 'Man Without a Face, The (1993)', 'As Good As It Gets (1997)', 'Unbearable Lightness of Being, The (1988)', 'Thin Blue Line, The (1988)', 'Forbidden Planet (1956)', \"Wes Craven's New Nightmare (1994)\", \"Antonia's Line (1995)\", 'Picnic (1955)', 'Time to Kill, A (1996)', 'Mrs. Brown (Her Majesty, Mrs. Brown) (1997)', 'Omen, The (1976)', \"Monty Python's Life of Brian (1979)\", 'Good, The Bad and The Ugly, The (1966)', 'Close Shave, A (1995)', 'Rob Roy (1995)', 'Daytrippers, The (1996)', 'Inkwell, The (1994)', 'Star Trek: First Contact (1996)', 'Red Rock West (1992)', 'Age of Innocence, The (1993)', 'Akira (1988)', 'Apartment, The (1960)', 'Brothers McMullen, The (1995)', 'Room with a View, A (1986)', 'Annie Hall (1977)', 'E.T. the Extra-Terrestrial (1982)', 'Adventures of Robin Hood, The (1938)', 'High Noon (1952)', 'Whole Wide World, The (1996)', 'Bob Roberts (1992)', 'My Crazy Life (Mi vida loca) (1993)', 'From Dusk Till Dawn (1996)', 'Family Thing, A (1996)', 'Doors, The (1991)', 'Hudsucker Proxy, The (1994)', 'Arrival, The (1996)', 'Until the End of the World (Bis ans Ende der Welt) (1991)', 'When a Man Loves a Woman (1994)', 'Donnie Brasco (1997)', 'Nightmare Before Christmas, The (1993)', \"Muriel's Wedding (1994)\", 'Funny Face (1957)', 'Ruby in Paradise (1993)', 'Ghost (1990)', 'Crossfire (1947)', 'Dead Poets Society (1989)', 'Faces (1968)', 'Women, The (1939)', 'Empire Strikes Back, The (1980)', 'Dave (1993)', 'Giant (1956)', 'Ladybird Ladybird (1994)', 'Arsenic and Old Lace (1944)', 'Manhattan (1979)', 'Faster Pussycat! Kill! Kill! (1965)', 'Umbrellas of Cherbourg, The (Parapluies de Cherbourg, Les) (1964)', 'Speed (1994)', 'Die Hard: With a Vengeance (1995)', 'Romeo Is Bleeding (1993)', 'Manhattan Murder Mystery (1993)', 'Ninotchka (1939)', 'Mr. Smith Goes to Washington (1939)', \"Nobody's Fool (1994)\", 'Three Colors: White (1994)', 'Killing Fields, The (1984)', 'Malice (1993)', 'Damsel in Distress, A (1937)', 'Jackie Brown (1997)', 'Pretty Woman (1990)', 'Devil in a Blue Dress (1995)', 'Sound of Music, The (1965)', 'Ponette (1996)', 'Miracle on 34th Street (1994)', 'Touch of Evil (1958)', 'Philadelphia (1993)', 'Nell (1994)', 'Ransom (1996)', 'Paths of Glory (1957)', 'Sleeper (1973)', 'Postino, Il (1994)', 'Farewell to Arms, A (1932)', 'Misérables, Les (1995)', 'Field of Dreams (1989)', 'Willy Wonka and the Chocolate Factory (1971)', 'Up in Smoke (1978)', 'Grosse Pointe Blank (1997)', 'Groundhog Day (1993)', 'Ruling Class, The (1972)', 'To Catch a Thief (1955)', 'Dances with Wolves (1990)', 'My Family (1995)', 'Barbarella (1968)', 'Some Folks Call It a Sling Blade (1993)', 'To Kill a Mockingbird (1962)', 'Mrs. Doubtfire (1993)', 'Swingers (1996)', 'Conan the Barbarian (1981)', 'His Girl Friday (1940)', 'East of Eden (1955)', 'Delicatessen (1991)', 'Serial Mom (1994)', 'Fearless (1993)', 'Star Trek: Generations (1994)', 'Much Ado About Nothing (1993)', 'Chasing Amy (1997)', '2 Days in the Valley (1996)', 'Down by Law (1986)', 'Quiz Show (1994)', \"Ulee's Gold (1997)\", 'Farewell My Concubine (1993)', 'Lady of Burlesque (1943)', 'Craft, The (1996)', 'While You Were Sleeping (1995)', 'Men in Black (1997)', 'Searching for Bobby Fischer (1993)', \"Smilla's Sense of Snow (1997)\", 'Candidate, The (1972)', 'Streetcar Named Desire, A (1951)', 'For Whom the Bell Tolls (1943)', 'Great Escape, The (1963)', 'Cyrano de Bergerac (1990)', '8 1/2 (1963)', 'Freeway (1996)', 'In the Name of the Father (1993)', 'Kingpin (1996)', 'Kim (1950)', 'Bride of Frankenstein (1935)', 'Highlander (1986)', 'Belle de jour (1967)', 'Night on Earth (1991)', 'Rumble in the Bronx (1995)', 'Sleepless in Seattle (1993)', 'Jerry Maguire (1996)', 'Wings of Courage (1995)', 'Swimming with Sharks (1995)', 'James and the Giant Peach (1996)', 'Firm, The (1993)', \"My Best Friend's Wedding (1997)\", 'Stealing Beauty (1996)', 'Back to the Future (1985)', 'Carried Away (1996)', 'Apollo 13 (1995)', 'My Own Private Idaho (1991)', 'Rebel Without a Cause (1955)', 'Mary Poppins (1964)', 'Short Cuts (1993)', 'Cape Fear (1962)', 'Murder at 1600 (1997)', 'Real Genius (1985)', 'Return of the Jedi (1983)', 'Fly Away Home (1996)', 'Gaslight (1944)', 'Father of the Bride (1950)', 'Day the Earth Stood Still, The (1951)', 'Rosewood (1997)', 'American Werewolf in London, An (1981)', 'Before Sunrise (1995)', 'Road to Wellville, The (1994)', \"Microcosmos: Le peuple de l'herbe (1996)\", 'Adventures of Priscilla, Queen of the Desert, The (1994)', 'Murder in the First (1995)', 'Client, The (1994)', 'In the Bleak Midwinter (1995)', 'Beat the Devil (1954)', 'Once Upon a Time in the West (1969)', 'Old Man and the Sea, The (1958)', 'Fried Green Tomatoes (1991)', 'Ridicule (1996)', 'Nutty Professor, The (1996)', 'Matilda (1996)', 'Star Trek VI: The Undiscovered Country (1991)', 'Fresh (1994)', 'Clear and Present Danger (1994)', 'Month by the Lake, A (1995)', 'Sirens (1994)', 'Moll Flanders (1996)', 'Batman (1989)', 'Top Hat (1935)', 'Hear My Song (1991)', \"Jackie Chan's First Strike (1996)\", 'Remains of the Day, The (1993)', 'Crucible, The (1996)', 'Mission: Impossible (1996)', 'Rock, The (1996)', 'Roman Holiday (1953)', 'People vs. Larry Flynt, The (1996)', 'Titanic (1997)', 'Ghost and Mrs. Muir, The (1947)', 'Old Yeller (1957)', 'Circle of Friends (1995)', 'Lost World: Jurassic Park, The (1997)', 'Blade Runner (1982)', 'Flower of My Secret, The (Flor de mi secreto, La) (1995)', 'Evil Dead II (1987)', 'Independence Day (ID4) (1996)', 'Contact (1997)', 'In the Line of Fire (1993)', 'Jean de Florette (1986)', 'Washington Square (1997)', 'Affair to Remember, An (1957)', 'Full Metal Jacket (1987)', 'Apt Pupil (1998)', 'Hunt for Red October, The (1990)', 'Looking for Richard (1996)', 'Last Time I Saw Paris, The (1954)', 'Eat Drink Man Woman (1994)', 'Sleepers (1996)', 'Quiet Man, The (1952)', 'Star Trek III: The Search for Spock (1984)', 'Menace II Society (1993)', 'Madness of King George, The (1994)', 'Diabolique (1996)', 'Spitfire Grill, The (1996)', 'Kolya (1996)', 'Army of Darkness (1993)', \"Schindler's List (1993)\", 'Little Princess, A (1995)', 'Ed Wood (1994)', 'Cool Hand Luke (1967)', 'Local Hero (1983)', 'Kalifornia (1993)', \"Carlito's Way (1993)\", 'Trust (1990)', 'Interview with the Vampire (1994)', 'Copycat (1995)', 'Night of the Living Dead (1968)', 'Charade (1963)', 'Good Will Hunting (1997)', 'Grifters, The (1990)', 'Once Upon a Time in America (1984)', 'Christmas Carol, A (1938)', 'Absolute Power (1997)', 'Crow, The (1994)', 'Braindead (1992)', 'Babe (1995)', 'Last of the Mohicans, The (1992)', '20,000 Leagues Under the Sea (1954)']\n"
          ]
        }
      ]
    }
  ]
}