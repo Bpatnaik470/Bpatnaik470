{
  "nbformat": 4,
  "nbformat_minor": 0,
  "metadata": {
    "colab": {
      "provenance": [],
      "include_colab_link": true
    },
    "kernelspec": {
      "name": "python3",
      "display_name": "Python 3"
    },
    "language_info": {
      "name": "python"
    }
  },
  "cells": [
    {
      "cell_type": "markdown",
      "metadata": {
        "id": "view-in-github",
        "colab_type": "text"
      },
      "source": [
        "<a href=\"https://colab.research.google.com/github/Bpatnaik470/Bpatnaik470/blob/main/Student_MLE_MiniProject_Recommendation_Engines.ipynb\" target=\"_parent\"><img src=\"https://colab.research.google.com/assets/colab-badge.svg\" alt=\"Open In Colab\"/></a>"
      ]
    },
    {
      "cell_type": "markdown",
      "source": [
        "# Mini Project: Recommendation Engines\n",
        "\n",
        "Recommendation engines are algorithms designed to provide personalized suggestions or recommendations to users. These systems analyze user behavior, preferences, and interactions with items (products, movies, music, articles, etc.) to predict and offer items that users are likely to be interested in. Recommendation engines play a crucial role in enhancing user experience, driving engagement, and increasing conversion rates in various applications, including e-commerce, entertainment, content platforms, and more.\n",
        "\n",
        "There are generally two approaches taken in collaborative filtering and content-based recommendation engines:\n",
        "\n",
        "**1. Collaborative Filtering:**\n",
        "Collaborative Filtering is a popular approach to building recommendation systems that leverages the collective behavior of users to make personalized recommendations. It is based on the idea that users who have agreed in the past will likely agree in the future. There are two main types of collaborative filtering:\n",
        "\n",
        "- **User-based Collaborative Filtering:** This method finds users similar to the target user based on their past interactions (e.g., ratings or purchases). It then recommends items that similar users have liked but the target user has not interacted with yet.\n",
        "\n",
        "- **Item-based Collaborative Filtering:** In this approach, the system identifies similar items based on user interactions. It recommends items that are similar to the ones the target user has already liked or interacted with.\n",
        "\n",
        "Collaborative filtering does not require any explicit information about items but relies on the similarity between users or items. It is effective in capturing complex patterns and can provide serendipitous recommendations. However, it suffers from the cold-start problem (i.e., difficulty in recommending to new users or items with no interactions) and scalability challenges in large datasets.\n",
        "\n",
        "**2. Content-Based Recommendation:**\n",
        "Content-based recommendation is an alternative approach to building recommendation systems that focuses on the attributes or features of items and users. It leverages the characteristics of items to make recommendations. The key steps involved in content-based recommendation are:\n",
        "\n",
        "- **Feature Extraction:** For each item, relevant features are extracted. For movies, these features could be genre, director, actors, and plot summary.\n",
        "\n",
        "- **User Profile:** A user profile is created based on the items they have interacted with in the past. The user profile contains the weighted importance of features based on their interactions.\n",
        "\n",
        "- **Similarity Calculation:** The similarity between items or between items and the user profile is calculated using similarity metrics like cosine similarity or Euclidean distance.\n",
        "\n",
        "- **Recommendation:** Items that are most similar to the user profile are recommended to the user.\n",
        "\n",
        "Content-based recommendation systems are less affected by the cold-start problem as they can still recommend items based on their features. They are also more interpretable as they rely on item attributes. However, they may miss out on providing serendipitous recommendations and can be limited by the quality of feature extraction and user profiles.\n",
        "\n",
        "**Choosing Between Collaborative Filtering and Content-Based:**\n",
        "Both collaborative filtering and content-based approaches have their strengths and weaknesses. The choice between them depends on the specific requirements of the recommendation system, the type of data available, and the user base. Hybrid approaches that combine collaborative filtering and content-based techniques are also common, aiming to leverage the strengths of both methods and mitigate their weaknesses."
      ],
      "metadata": {
        "id": "fyXucUekO19i"
      }
    },
    {
      "cell_type": "markdown",
      "source": [
        "In this mini-project, you'll be building both content based and collaborative filtering engines for the [MovieLens 25M dataset](https://grouplens.org/datasets/movielens/25m/). The MovieLens 25M dataset is one of the most widely used and popular datasets for building and evaluating recommendation systems. It is provided by the GroupLens Research project, which collects and studies datasets related to movie ratings and recommendations. The MovieLens 25M dataset contains movie ratings and other related information contributed by users of the MovieLens website.\n",
        "\n",
        "**Dataset Details:**\n",
        "- **Size:** The dataset contains approximately 25 million movie ratings.\n",
        "- **Users:** It includes ratings from over 162,000 users.\n",
        "- **Movies:** The dataset consists of ratings for more than 62,000 movies.\n",
        "- **Ratings:** The ratings are provided on a scale of 1 to 5, where 1 is the lowest rating and 5 is the highest.\n",
        "- **Timestamps:** Each rating is associated with a timestamp, indicating when the rating was given.\n",
        "\n",
        "**Data Files:**\n",
        "The dataset is usually split into three CSV files:\n",
        "\n",
        "1. **movies.csv:** Contains information about movies, including the movie ID, title, genres, and release year.\n",
        "   - Columns: movieId, title, genres\n",
        "\n",
        "2. **ratings.csv:** Contains movie ratings provided by users, including the user ID, movie ID, rating, and timestamp.\n",
        "   - Columns: userId, movieId, rating, timestamp\n",
        "\n",
        "3. **tags.csv:** Contains user-generated tags for movies, including the user ID, movie ID, tag, and timestamp.\n",
        "   - Columns: userId, movieId, tag, timestamp"
      ],
      "metadata": {
        "id": "TYuE9O6I2uRY"
      }
    },
    {
      "cell_type": "markdown",
      "source": [
        "First, import all the libraries you'll need."
      ],
      "metadata": {
        "id": "DN0qzP-cRlMo"
      }
    },
    {
      "cell_type": "code",
      "execution_count": 3,
      "metadata": {
        "id": "kLWR1DfQPakn"
      },
      "outputs": [],
      "source": [
        "import zipfile\n",
        "import numpy as np\n",
        "import pandas as pd\n",
        "from urllib.request import urlretrieve\n",
        "from sklearn.metrics.pairwise import cosine_similarity"
      ]
    },
    {
      "cell_type": "markdown",
      "source": [
        "Next, download the relevant components of the MoveLens dataset. Note, these instructions are roughly based on the colab [here](https://colab.research.google.com/github/google/eng-edu/blob/main/ml/recommendation-systems/recommendation-systems.ipynb?utm_source=ss-recommendation-systems&utm_campaign=colab-external&utm_medium=referral&utm_content=recommendation-systems#scrollTo=O3bcgduFo4s6)."
      ],
      "metadata": {
        "id": "iaG6vAKyREej"
      }
    },
    {
      "cell_type": "code",
      "source": [
        "print(\"Downloading movielens data...\")\n",
        "\n",
        "urlretrieve('http://files.grouplens.org/datasets/movielens/ml-100k.zip', 'movielens.zip')\n",
        "zip_ref = zipfile.ZipFile('movielens.zip', 'r')\n",
        "zip_ref.extractall()\n",
        "print(\"Done. Dataset contains:\")\n",
        "print(zip_ref.read('ml-100k/u.info'))\n",
        "\n",
        "ratings_cols = ['user_id', 'movie_id', 'rating', 'unix_timestamp']\n",
        "ratings = pd.read_csv(\n",
        "    'ml-100k/u.data', sep='\\t', names=ratings_cols, encoding='latin-1')\n",
        "\n",
        "# The movies file contains a binary feature for each genre.\n",
        "genre_cols = [\n",
        "    \"genre_unknown\", \"Action\", \"Adventure\", \"Animation\", \"Children\", \"Comedy\",\n",
        "    \"Crime\", \"Documentary\", \"Drama\", \"Fantasy\", \"Film-Noir\", \"Horror\",\n",
        "    \"Musical\", \"Mystery\", \"Romance\", \"Sci-Fi\", \"Thriller\", \"War\", \"Western\"\n",
        "]\n",
        "movies_cols = [\n",
        "    'movie_id', 'title', 'release_date', \"video_release_date\", \"imdb_url\"\n",
        "] + genre_cols\n",
        "movies = pd.read_csv(\n",
        "    'ml-100k/u.item', sep='|', names=movies_cols, encoding='latin-1')"
      ],
      "metadata": {
        "id": "-wCvx2ukPm-3",
        "outputId": "435decd3-047a-4f02-a209-0e613de4e7fe",
        "colab": {
          "base_uri": "https://localhost:8080/"
        }
      },
      "execution_count": 4,
      "outputs": [
        {
          "output_type": "stream",
          "name": "stdout",
          "text": [
            "Downloading movielens data...\n",
            "Done. Dataset contains:\n",
            "b'943 users\\n1682 items\\n100000 ratings\\n'\n"
          ]
        }
      ]
    },
    {
      "cell_type": "markdown",
      "source": [
        "Before doing any kind of machine learning, it's always good to familiarize yourself with the datasets you'lll be working with.\n",
        "\n",
        "Here are your tasks:\n",
        "\n",
        "1. Spend some time familiarizing yourself with both the `movies` and `ratings` dataframes. How many unique user ids are present? How many unique movies are there?\n",
        "2. Create a new dataframe that merges the `movies` and `ratings` tables on 'movie_id'. Only keep the 'user_id', 'title', 'rating' fields in this new dataframe."
      ],
      "metadata": {
        "id": "pLAMVhnbR-Cy"
      }
    },
    {
      "cell_type": "code",
      "source": [
        "# Spend some time familiarizing yourself with both the movies and ratings\n",
        "# dataframes. How many unique user ids are present? How many unique movies\n",
        "# are there?"
      ],
      "metadata": {
        "id": "vp7Tx7H_P5f2"
      },
      "execution_count": null,
      "outputs": []
    },
    {
      "cell_type": "code",
      "source": [
        "# prompt: How many unique movies are there?\n",
        "\n",
        "# How many unique user ids are present?\n",
        "num_unique_users = ratings['user_id'].nunique()\n",
        "print(\"Number of unique users:\", num_unique_users)\n",
        "\n",
        "# How many unique movies are there?\n",
        "num_unique_movies = movies['movie_id'].nunique()\n",
        "print(\"Number of unique movies:\", num_unique_movies)\n"
      ],
      "metadata": {
        "id": "jkYmxn4mAvLk",
        "outputId": "4391b049-28d5-41fd-ed22-b21a5a7838f5",
        "colab": {
          "base_uri": "https://localhost:8080/"
        }
      },
      "execution_count": 6,
      "outputs": [
        {
          "output_type": "stream",
          "name": "stdout",
          "text": [
            "Number of unique users: 943\n",
            "Number of unique movies: 1682\n"
          ]
        }
      ]
    },
    {
      "cell_type": "code",
      "source": [
        "# Merge movies and ratings dataframes"
      ],
      "metadata": {
        "id": "f6MrymMJRMjB"
      },
      "execution_count": null,
      "outputs": []
    },
    {
      "cell_type": "code",
      "source": [
        "# prompt: Merge movies and ratings dataframes\n",
        "\n",
        "import pandas as pd\n",
        "movie_ratings = pd.merge(movies, ratings, on='movie_id')\n",
        "movie_ratings = movie_ratings[['user_id', 'title', 'rating']]\n",
        "print(movie_ratings.head())\n"
      ],
      "metadata": {
        "id": "FSRbG4LUtXjX",
        "outputId": "6375dfa5-14fc-4677-c3d3-9295b77cffc4",
        "colab": {
          "base_uri": "https://localhost:8080/"
        }
      },
      "execution_count": 7,
      "outputs": [
        {
          "output_type": "stream",
          "name": "stdout",
          "text": [
            "   user_id             title  rating\n",
            "0      308  Toy Story (1995)       4\n",
            "1      287  Toy Story (1995)       5\n",
            "2      148  Toy Story (1995)       4\n",
            "3      280  Toy Story (1995)       4\n",
            "4       66  Toy Story (1995)       3\n"
          ]
        }
      ]
    },
    {
      "cell_type": "markdown",
      "source": [
        "As mentioned in the introduction, content-Based Filtering is a recommendation engine approach that focuses on the attributes or features of items (products, movies, music, articles, etc.) and leverages these features to make personalized recommendations. The underlying idea is to match the characteristics of items with the preferences of users to suggest items that align with their interests. Content-based filtering is particularly useful when explicit user-item interactions (e.g., ratings or purchases) are sparse or unavailable.\n",
        "\n",
        "**Key Steps in Content-Based Filtering:**\n",
        "\n",
        "1. **Feature Extraction:**\n",
        "   - For each item, relevant features are extracted. These features are typically descriptive attributes that can be represented numerically, such as genre, director, actors, author, publication date, and keywords.\n",
        "   - In the case of text-based items, natural language processing techniques may be used to extract features like TF-IDF (Term Frequency-Inverse Document Frequency) scores.\n",
        "\n",
        "2. **User Profile Creation:**\n",
        "   - A user profile is created based on the items they have interacted with in the past. The user profile contains the weighted importance of features based on their interactions.\n",
        "   - For example, if a user has watched several action movies, the action genre feature would receive a higher weight in their profile.\n",
        "\n",
        "3. **Similarity Calculation:**\n",
        "   - The similarity between items or between items and the user profile is calculated using similarity metrics like cosine similarity, Euclidean distance, or Pearson correlation.\n",
        "   - Cosine similarity is commonly used as it measures the cosine of the angle between two vectors, which represents their similarity.\n",
        "\n",
        "4. **Recommendation:**\n",
        "   - Items that are most similar to the user profile are recommended to the user. These are items whose features have the highest similarity scores with the user profile.\n",
        "   - The recommended items are presented as a list sorted by their similarity scores.\n",
        "\n",
        "**Advantages of Content-Based Filtering:**\n",
        "1. **No Cold-Start Problem:** Content-based filtering can make recommendations even for new users with no historical interactions because it relies on item features rather than user history.\n",
        "\n",
        "2. **User Independence:** The recommendations are based solely on the features of items and do not require knowledge of other users' preferences or behavior.\n",
        "\n",
        "3. **Transparency:** Content-based recommendations are interpretable, as they depend on the features of items, making it easier for users to understand why specific items are recommended.\n",
        "\n",
        "4. **Serendipity:** Content-based filtering can recommend items with characteristics not seen before by the user, leading to serendipitous discoveries.\n",
        "\n",
        "5. **Diversity in Recommendations:** The method can offer diverse recommendations since it suggests items with different feature combinations.\n",
        "\n",
        "**Limitations of Content-Based Filtering:**\n",
        "1. **Limited Discovery:** Content-based filtering may struggle to recommend items outside the scope of users' historical interactions or interests.\n",
        "\n",
        "2. **Over-Specialization:** Users may receive recommendations that are too similar to their previous choices, leading to a lack of exposure to new item categories.\n",
        "\n",
        "3. **Dependency on Feature Quality:** The quality and relevance of item features significantly influence the quality of recommendations.\n",
        "\n",
        "4. **Limited for Cold Items:** Content-based filtering can struggle to recommend new items with limited feature information."
      ],
      "metadata": {
        "id": "_U44W0TMT3qf"
      }
    },
    {
      "cell_type": "markdown",
      "source": [
        "Here is your task:\n",
        "\n",
        "1. Write a function that takes in a user id and the dataframe you created before that contains 'user_id', 'title', and 'rating'. The function should return content-based recommendations for this user. Here are steps you can take:\n",
        "\n",
        "  A. Get the user's rated movies\n",
        "\n",
        "  B. Create a TF-IDF matrix using movie genres. Note, this can be extracted from the `movies` dataframe.\n",
        "\n",
        "  C. Compute the cosine similarity between movie genres. Use the [cosine_similarity](https://scikit-learn.org/stable/modules/generated/sklearn.metrics.pairwise.cosine_similarity.html) function.\n",
        "\n",
        "  D. Get the indices of similar movies to those rated by the user based on cosine similarity. Keep only the top 5.\n",
        "\n",
        "  E. Remove duplicates and movies already rated by the user."
      ],
      "metadata": {
        "id": "sbJGD7j7Ui-8"
      }
    },
    {
      "cell_type": "code",
      "source": [
        "# Content-Based Filtering using Movie Genres\n",
        "def content_based_recommendation(user_id, df):\n",
        "  # Get the user's rated movies\n",
        "\n",
        "  # Create a TF-IDF matrix using movie genres\n",
        "\n",
        "  # Compute the cosine similarity between movie genres\n",
        "\n",
        "  # Get the indices of the similar movies based on cosine similarity\n",
        "\n",
        "  # Remove duplicates and movies already rated by the user"
      ],
      "metadata": {
        "id": "JwBQSC-POTzn",
        "outputId": "4b46a53b-27de-4548-970b-33d518b55a86",
        "colab": {
          "base_uri": "https://localhost:8080/",
          "height": 106
        }
      },
      "execution_count": 11,
      "outputs": [
        {
          "output_type": "error",
          "ename": "SyntaxError",
          "evalue": "incomplete input (<ipython-input-11-fb91008efe92>, line 11)",
          "traceback": [
            "\u001b[0;36m  File \u001b[0;32m\"<ipython-input-11-fb91008efe92>\"\u001b[0;36m, line \u001b[0;32m11\u001b[0m\n\u001b[0;31m    # Remove duplicates and movies already rated by the user\u001b[0m\n\u001b[0m                                                            ^\u001b[0m\n\u001b[0;31mSyntaxError\u001b[0m\u001b[0;31m:\u001b[0m incomplete input\n"
          ]
        }
      ]
    },
    {
      "cell_type": "code",
      "source": [
        "# prompt: Create a TF-IDF matrix using movie genres\n",
        "\n",
        "import pandas as pd\n",
        "def content_based_recommendation(user_id, df):\n",
        "  # Get the user's rated movies\n",
        "  user_movies = df[df['user_id'] == user_id]['title'].tolist()\n",
        "\n",
        "  # Create a TF-IDF matrix using movie genres\n",
        "  from sklearn.feature_extraction.text import TfidfVectorizer\n",
        "  tfidf = TfidfVectorizer(token_pattern='(?u)\\\\b[\\\\w-]+\\\\b')\n",
        "  movie_genres = movies['genres'].str.replace('|', ' ')\n",
        "  tfidf_matrix = tfidf.fit_transform(movie_genres)\n",
        "\n",
        "  # Compute the cosine similarity between movie genres\n",
        "  cosine_sim = cosine_similarity(tfidf_matrix, tfidf_matrix)\n",
        "\n",
        "  # Get the indices of the similar movies based on cosine similarity\n",
        "  movie_idx = pd.Series(movies.index, index=movies['title'])\n",
        "  idx = movie_idx[user_movies]\n",
        "  sim_scores = list(enumerate(cosine_sim[idx].mean(axis=0)))\n",
        "  sim_scores = sorted(sim_scores, key=lambda x: x[1], reverse=True)\n",
        "  sim_scores = sim_scores[1:6]\n",
        "  movie_indices = [i[0] for i in sim_scores]\n",
        "\n",
        "  # Remove duplicates and movies already rated by the user\n",
        "  recommendations = movies['title'].iloc[movie_indices].tolist()\n",
        "  recommendations = [movie for movie in recommendations if movie not in user_movies]\n",
        "  return recommendations\n"
      ],
      "metadata": {
        "id": "2OAOpux8tnhd"
      },
      "execution_count": 13,
      "outputs": []
    },
    {
      "cell_type": "markdown",
      "source": [
        "The key idea behind collaborative filtering is that users who have agreed in the past will likely agree in the future. Instead of relying on item attributes or user profiles, collaborative filtering identifies patterns of user behavior and item preferences from the interactions present in the data.\n",
        "\n",
        "**Types of Collaborative Filtering:**\n",
        "There are two main types of collaborative filtering:\n",
        "\n",
        "**Collaborative Filtering Process:**\n",
        "The collaborative filtering process typically involves the following steps:\n",
        "\n",
        "1. **Data Collection:**\n",
        "   - Gather data on user-item interactions, such as movie ratings, product purchases, or article clicks.\n",
        "\n",
        "2. **User-Item Matrix:**\n",
        "   - Organize the data into a user-item matrix, where rows represent users, columns represent items, and the entries contain the users' interactions (e.g., ratings).\n",
        "\n",
        "3. **Similarity Calculation:**\n",
        "   - Calculate the similarity between users or items using similarity metrics such as cosine similarity, Pearson correlation, or Jaccard similarity.\n",
        "   - For user-based collaborative filtering, user similarities are calculated, and for item-based collaborative filtering, item similarities are calculated.\n",
        "\n",
        "4. **Neighborhood Selection:**\n",
        "   - For each user or item, select the most similar users or items as the neighborhood.\n",
        "   - The size of the neighborhood (the number of similar users or items to consider) is an important parameter to control the system's behavior.\n",
        "\n",
        "5. **Prediction Generation:**\n",
        "   - Predict the ratings for items that the target user has not yet interacted with by combining the ratings of neighboring users or items.\n",
        "\n",
        "6. **Recommendation Generation:**\n",
        "   - Recommend items with the highest predicted ratings to the target user.\n",
        "\n",
        "**Advantages of Collaborative Filtering using User-Item Interactions:**\n",
        "- Collaborative filtering is based solely on user interactions and does not require knowledge of item attributes, making it useful for cases where item data is sparse or unavailable.\n",
        "- It can provide serendipitous recommendations, suggesting items that users may not have discovered on their own.\n",
        "- Collaborative filtering can be applied in various domains, including e-commerce, music, movie, and content recommendations.\n",
        "\n",
        "**Limitations of Collaborative Filtering:**\n",
        "- The cold-start problem: Collaborative filtering struggles to recommend to new users or items with no or limited interaction history.\n",
        "- It may suffer from sparsity when data is limited or when users have only interacted with a small subset of items.\n",
        "- Scalability issues can arise with large datasets and an increasing number of users or items."
      ],
      "metadata": {
        "id": "2NNt3gHLYDxU"
      }
    },
    {
      "cell_type": "markdown",
      "source": [
        "Here is your task:\n",
        "\n",
        "1. Write a function that takes in a user id and the dataframe you created before that contains 'user_id', 'title', and 'rating'. The function should return collaborative filtering recommendations for this user based on a user-item interaction matrix. Here are steps you can take:\n",
        "\n",
        "  A. Create the user-item matrix using Pandas' [pivot_table](https://pandas.pydata.org/docs/reference/api/pandas.pivot_table.html).\n",
        "\n",
        "  B. Fill missing values with zeros in this matrix.\n",
        "\n",
        "  C. Calculate user-user similarity matrix using cosine similarity.\n",
        "\n",
        "  D. Get the array of similarity scores of the target user with all other users from the similarity matrix.\n",
        "\n",
        "  E. Extract, say the the top 5 most similar users (excluding the target user).\n",
        "\n",
        "  F. Generate movie recommendations based on the most similar users.\n",
        "\n",
        "  G. Remove duplicate movies recommendations."
      ],
      "metadata": {
        "id": "ks4mWyCaYVNY"
      }
    },
    {
      "cell_type": "code",
      "source": [
        "# Collaborative Filtering using User-Item Interactions\n",
        "def collaborative_filtering_recommendation(user_id, df):\n",
        "  # Create the user-item matrix\n",
        "\n",
        "  # Fill missing values with 0 (indicating no rating)\n",
        "\n",
        "  # Calculate user-user similarity matrix using cosine similarity\n",
        "\n",
        "  # Get the similarity scores of the target user with all other users\n",
        "\n",
        "  # Find the top N most similar users (excluding the target user)\n",
        "\n",
        "  # Generate movie recommendations based on the most similar users\n",
        "\n",
        "  # Remove duplicates from recommendations"
      ],
      "metadata": {
        "id": "BqZPgKRDWf-c"
      },
      "execution_count": null,
      "outputs": []
    },
    {
      "cell_type": "code",
      "source": [
        "\n",
        "# Collaborative Filtering using User-Item Interactions\n",
        "def collaborative_filtering_recommendation(user_id, df):\n",
        "\n",
        "  # Create the user-item matrix\n",
        "  user_item_matrix = df.pivot_table(index='user_id', columns='title', values='rating')\n",
        "\n",
        "  # Fill missing values with 0 (indicating no rating)\n",
        "  user_item_matrix = user_item_matrix.fillna(0)\n",
        "\n",
        "  # Calculate user-user similarity matrix using cosine similarity\n",
        "  user_similarity = cosine_similarity(user_item_matrix)\n",
        "\n",
        "  # Get the similarity scores of the target user with all other users\n",
        "  target_user_similarity = user_similarity[user_id - 1]  # Subtract 1 because user_id starts from 1\n",
        "\n",
        "  # Find the top N most similar users (excluding the target user)\n",
        "  N = 5\n",
        "  most_similar_users = target_user_similarity.argsort()[::-1][1:N+1]\n",
        "\n",
        "  # Generate movie recommendations based on the most similar users\n",
        "  recommendations = []\n",
        "  for similar_user in most_similar_users:\n",
        "    similar_user_movies = user_item_matrix.iloc[similar_user].sort_values(ascending=False).index.tolist()\n",
        "    recommendations.extend(similar_user_movies)\n",
        "\n",
        "  # Remove duplicates from recommendations\n",
        "  recommendations = list(set(recommendations))\n",
        "  return recommendations\n"
      ],
      "metadata": {
        "id": "7zpPQz1jumj1"
      },
      "execution_count": 22,
      "outputs": []
    },
    {
      "cell_type": "markdown",
      "source": [
        "Now, test your recommendations engines! Select a few user ids and generate recommendations using both functions you've written. Are the recommendations similar? Do the recommendations make sense?"
      ],
      "metadata": {
        "id": "-Jj883VAZRNe"
      }
    },
    {
      "cell_type": "code",
      "source": [
        "# Test the recommendation engines"
      ],
      "metadata": {
        "id": "kt9nuOTNJXz8"
      },
      "execution_count": 17,
      "outputs": []
    },
    {
      "cell_type": "code",
      "source": [
        "# prompt: Test the recommendation engines\n",
        "\n",
        "# Test the recommendation engines\n",
        "user_id = 1\n",
        "if 'genres' in movie_ratings.columns:\n",
        "    content_based_recs = content_based_recommendation(user_id, movie_ratings)\n",
        "    print(\"Content-Based Recommendations for User\", user_id, \":\", content_based_recs)\n",
        "else:\n",
        "  print(\"Error: 'genres' column not found in movie_ratings DataFrame.\")\n",
        "collaborative_recs = collaborative_filtering_recommendation(user_id, movie_ratings)\n",
        "print(\"Collaborative Filtering Recommendations for User\", user_id, \":\", collaborative_recs)\n"
      ],
      "metadata": {
        "id": "5VZCBbrxw6au",
        "outputId": "b9a6b45a-ebcc-481a-9314-364adf1031a8",
        "colab": {
          "base_uri": "https://localhost:8080/"
        }
      },
      "execution_count": 26,
      "outputs": [
        {
          "output_type": "stream",
          "name": "stdout",
          "text": [
            "Error: 'genres' column not found in movie_ratings DataFrame.\n",
            "Collaborative Filtering Recommendations for User 1 : ['Spirits of the Dead (Tre passi nel delirio) (1968)', 'Age of Innocence, The (1993)', 'For Love or Money (1993)', 'Crossing Guard, The (1995)', 'Waterworld (1995)', 'Apartment, The (1960)', 'Nell (1994)', 'Stonewall (1995)', 'Welcome to the Dollhouse (1995)', 'Rainmaker, The (1997)', \"Romy and Michele's High School Reunion (1997)\", 'Eraser (1996)', 'Speed 2: Cruise Control (1997)', 'Anne Frank Remembered (1995)', 'Carrie (1976)', 'Browning Version, The (1994)', 'Swingers (1996)', 'Paths of Glory (1957)', 'Burnt Offerings (1976)', 'Farinelli: il castrato (1994)', 'Picnic (1955)', 'Fille seule, La (A Single Girl) (1995)', 'Target (1995)', 'Jeffrey (1995)', 'Firestorm (1998)', 'Four Rooms (1995)', 'Inventing the Abbotts (1997)', 'Supercop (1992)', 'Little Princess, The (1939)', 'Nick of Time (1995)', 'Star Trek: The Motion Picture (1979)', \"National Lampoon's Senior Trip (1995)\", 'Hoodlum (1997)', 'Brother Minister: The Assassination of Malcolm X (1994)', 'Congo (1995)', 'Glengarry Glen Ross (1992)', 'Homeward Bound II: Lost in San Francisco (1996)', 'Dream With the Fishes (1997)', 'Rock, The (1996)', 'Trust (1990)', 'Blue Angel, The (Blaue Engel, Der) (1930)', 'Shadowlands (1993)', 'Tokyo Fist (1995)', 'Farewell to Arms, A (1932)', 'Awfully Big Adventure, An (1995)', 'Quest, The (1996)', 'Chain Reaction (1996)', 'Bridges of Madison County, The (1995)', 'Grifters, The (1990)', 'Amityville Curse, The (1990)', 'I Shot Andy Warhol (1996)', 'Santa Clause, The (1994)', 'Ruby in Paradise (1993)', 'Body Snatchers (1993)', 'Stripes (1981)', 'Homeward Bound: The Incredible Journey (1993)', 'Tank Girl (1995)', 'Secret Agent, The (1996)', 'As Good As It Gets (1997)', 'For the Moment (1994)', 'Mallrats (1995)', 'Harlem (1993)', \"Mary Shelley's Frankenstein (1994)\", 'Bad Company (1995)', 'Shall We Dance? (1996)', 'North (1994)', 'Shawshank Redemption, The (1994)', 'Crow: City of Angels, The (1996)', 'Black Beauty (1994)', 'Wag the Dog (1997)', 'Window to Paris (1994)', 'Robin Hood: Men in Tights (1993)', 'Junior (1994)', 'Once Upon a Time in the West (1969)', 'Bogus (1996)', 'Drop Zone (1994)', 'Bliss (1997)', 'Palmetto (1998)', 'Boogie Nights (1997)', 'Aparajito (1956)', 'True Lies (1994)', 'Aliens (1986)', 'Die Hard (1988)', 'Simple Twist of Fate, A (1994)', \"Miller's Crossing (1990)\", 'Jack and Sarah (1995)', 'In the Mouth of Madness (1995)', 'Mad City (1997)', 'Stefano Quantestorie (1993)', \"I'll Do Anything (1994)\", 'Emma (1996)', 'Desperate Measures (1998)', 'Lassie (1994)', 'Quiz Show (1994)', 'Flintstones, The (1994)', 'Malice (1993)', 'Halloween: The Curse of Michael Myers (1995)', \"Muriel's Wedding (1994)\", 'Arrival, The (1996)', 'Highlander III: The Sorcerer (1994)', \"Widows' Peak (1994)\", 'Diva (1981)', 'Clockers (1995)', 'Hostile Intentions (1994)', 'Piano, The (1993)', 'Hungarian Fairy Tale, A (1987)', 'Aladdin (1992)', 'Sound of Music, The (1965)', \"Enfer, L' (1994)\", 'Fugitive, The (1993)', 'Star Trek V: The Final Frontier (1989)', 'Invitation, The (Zaproszenie) (1986)', 'Reservoir Dogs (1992)', 'Line King: Al Hirschfeld, The (1996)', 'Jungle Book, The (1994)', 'Half Baked (1998)', 'Tie That Binds, The (1995)', 'Sweet Hereafter, The (1997)', 'Braindead (1992)', \"What's Love Got to Do with It (1993)\", 'Low Life, The (1994)', 'Juror, The (1996)', 'Forget Paris (1995)', 'Meet Me in St. Louis (1944)', 'Maybe, Maybe Not (Bewegte Mann, Der) (1994)', 'Next Karate Kid, The (1994)', 'Return of Martin Guerre, The (Retour de Martin Guerre, Le) (1982)', 'Ridicule (1996)', 'Pollyanna (1960)', 'Twin Town (1997)', 'Country Life (1994)', 'Benny & Joon (1993)', 'Operation Dumbo Drop (1995)', 'Jerry Maguire (1996)', 'Forrest Gump (1994)', 'Michael Collins (1996)', 'Washington Square (1997)', 'Bonheur, Le (1965)', 'Manchurian Candidate, The (1962)', 'Terminator, The (1984)', \"Carlito's Way (1993)\", 'To Wong Foo, Thanks for Everything! Julie Newmar (1995)', 'Shadows (Cienie) (1988)', 'Beverly Hillbillies, The (1993)', 'House Party 3 (1994)', 'Long Kiss Goodnight, The (1996)', 'I Like It Like That (1994)', 'Heavy Metal (1981)', 'Unstrung Heroes (1995)', \"Gone Fishin' (1997)\", 'Panther (1995)', 'Flipper (1996)', 'Beyond Bedlam (1993)', 'Bringing Up Baby (1938)', \"Singin' in the Rain (1952)\", '3 Ninjas: High Noon At Mega Mountain (1998)', 'Man of the House (1995)', 'Party Girl (1995)', 'Swept from the Sea (1997)', 'Fifth Element, The (1997)', 'Mighty Morphin Power Rangers: The Movie (1995)', 'They Made Me a Criminal (1939)', 'Unhook the Stars (1996)', 'Mostro, Il (1994)', 'Pocahontas (1995)', 'Mr. Smith Goes to Washington (1939)', 'Sexual Life of the Belgians, The (1994)', 'Assassins (1995)', 'Spanking the Monkey (1994)', \"Kid in King Arthur's Court, A (1995)\", 'Far From Home: The Adventures of Yellow Dog (1995)', 'Stars Fell on Henrietta, The (1995)', 'Bullets Over Broadway (1994)', 'Unzipped (1995)', 'Fog, The (1980)', 'Hunted, The (1995)', 'Poetic Justice (1993)', 'Cyclo (1995)', 'Sum of Us, The (1994)', 'Grand Day Out, A (1992)', 'My Man Godfrey (1936)', 'All About Eve (1950)', 'Waiting to Exhale (1995)', 'Lawnmower Man 2: Beyond Cyberspace (1996)', 'Dear God (1996)', 'New York Cop (1996)', 'For Whom the Bell Tolls (1943)', 'Beautician and the Beast, The (1997)', 'Frighteners, The (1996)', 'Until the End of the World (Bis ans Ende der Welt) (1991)', 'Babysitter, The (1995)', 'Man of the Year (1995)', 'Trial and Error (1997)', 'Tie Me Up! Tie Me Down! (1990)', 'Ghosts of Mississippi (1996)', 'Doom Generation, The (1995)', 'Sunset Blvd. (1950)', 'My Life as a Dog (Mitt liv som hund) (1985)', 'Young Guns II (1990)', 'Normal Life (1996)', 'Daytrippers, The (1996)', 'Mrs. Dalloway (1997)', 'Mirage (1995)', 'Dragonheart (1996)', 'Symphonie pastorale, La (1946)', 'Alien: Resurrection (1997)', 'Jungle2Jungle (1997)', 'Canadian Bacon (1994)', 'People vs. Larry Flynt, The (1996)', 'Very Brady Sequel, A (1996)', 'My Family (1995)', 'When a Man Loves a Woman (1994)', 'Legends of the Fall (1994)', 'Great Day in Harlem, A (1994)', '2001: A Space Odyssey (1968)', 'Star Trek: First Contact (1996)', 'Big Bang Theory, The (1994)', 'Paris, France (1993)', 'Guilty as Sin (1993)', 'Two or Three Things I Know About Her (1966)', 'Addicted to Love (1997)', 'So I Married an Axe Murderer (1993)', 'Jude (1996)', 'Stalker (1979)', 'My Fair Lady (1964)', 'Glimmer Man, The (1996)', 'Playing God (1997)', 'Cérémonie, La (1995)', 'Bride of Frankenstein (1935)', \"Gilligan's Island: The Movie (1998)\", 'Night Flier (1997)', 'Set It Off (1996)', 'Clueless (1995)', 'Entertaining Angels: The Dorothy Day Story (1996)', 'Horseman on the Roof, The (Hussard sur le toit, Le) (1995)', 'Buddy (1997)', 'Multiplicity (1996)', 'Ransom (1996)', 'Midnight in the Garden of Good and Evil (1997)', 'Schizopolis (1996)', 'Tales from the Crypt Presents: Bordello of Blood (1996)', 'Chinatown (1974)', 'Sword in the Stone, The (1963)', 'Indiana Jones and the Last Crusade (1989)', 'Even Cowgirls Get the Blues (1993)', 'Harold and Maude (1971)', 'Wings of the Dove, The (1997)', 'Hackers (1995)', 'Little Lord Fauntleroy (1936)', 'Immortal Beloved (1994)', 'Van, The (1996)', 'Deer Hunter, The (1978)', 'Primal Fear (1996)', 'Sleepover (1995)', 'Paradise Lost: The Child Murders at Robin Hood Hills (1996)', 'Winnie the Pooh and the Blustery Day (1968)', 'Albino Alligator (1996)', 'Man Who Knew Too Little, The (1997)', 'Return of the Jedi (1983)', 'Steal Big, Steal Little (1995)', 'Sense and Sensibility (1995)', 'Speed (1994)', 'Jingle All the Way (1996)', 'That Darn Cat! (1965)', 'Year of the Horse (1997)', 'Sleeper (1973)', 'Ruling Class, The (1972)', 'Twelfth Night (1996)', 'Mad Love (1995)', 'Philadelphia (1993)', 'Gang Related (1997)', \"Eye of Vichy, The (Oeil de Vichy, L') (1993)\", 'Leave It to Beaver (1997)', \"My Best Friend's Wedding (1997)\", 'Streetcar Named Desire, A (1951)', 'Cyrano de Bergerac (1990)', 'Casper (1995)', 'My Fellow Americans (1996)', 'Shadow Conspiracy (1997)', 'Carpool (1996)', 'Career Girls (1997)', 'East of Eden (1955)', 'Shine (1996)', 'G.I. Jane (1997)', 'Crooklyn (1994)', 'Life with Mikey (1993)', 'Nightmare Before Christmas, The (1993)', 'Bean (1997)', 'Kicking and Screaming (1995)', 'Some Folks Call It a Sling Blade (1993)', 'Thousand Acres, A (1997)', 'Curdled (1996)', 'Temptress Moon (Feng Yue) (1996)', 'GoodFellas (1990)', 'Purple Noon (1960)', 'Mrs. Brown (Her Majesty, Mrs. Brown) (1997)', 'Thirty-Two Short Films About Glenn Gould (1993)', 'Turning, The (1992)', 'Picture Bride (1995)', 'Sneakers (1992)', 'Witness (1985)', 'Escape to Witch Mountain (1975)', 'First Kid (1996)', \"Jackie Chan's First Strike (1996)\", 'Adventures of Robin Hood, The (1938)', 'Dead Man (1995)', 'Independence Day (ID4) (1996)', 'Surviving the Game (1994)', 'Mortal Kombat: Annihilation (1997)', 'Timecop (1994)', 'Princess Bride, The (1987)', 'Boys (1996)', 'Here Comes Cookie (1935)', 'Village of the Damned (1995)', 'Vermin (1998)', 'Speechless (1994)', 'Vegas Vacation (1997)', 'Tombstone (1993)', 'Good Morning (1971)', 'Hollow Reed (1996)', 'Tigrero: A Film That Was Never Made (1994)', 'Addams Family Values (1993)', 'Short Cuts (1993)', 'Crying Game, The (1992)', 'Rocket Man (1997)', \"Devil's Own, The (1997)\", 'Anaconda (1997)', 'Gold Diggers: The Secret of Bear Mountain (1995)', 'Queen Margot (Reine Margot, La) (1994)', 'Sgt. Bilko (1996)', 'Home Alone 3 (1997)', 'Trees Lounge (1996)', 'Double Team (1997)', 'Beautiful Girls (1996)', 'Jean de Florette (1986)', 'Fantasia (1940)', \"Lover's Knot (1996)\", 'Money Talks (1997)', 'Spitfire Grill, The (1996)', 'Street Fighter (1994)', 'D3: The Mighty Ducks (1996)', 'Wonderful, Horrible Life of Leni Riefenstahl, The (1993)', 'Paris Is Burning (1990)', 'unknown', 'Blood Beach (1981)', 'Another Stakeout (1993)', 'Soul Food (1997)', 'Tom and Huck (1995)', 'Heavyweights (1994)', 'Game, The (1997)', 'Catwalk (1995)', 'Godfather, The (1972)', 'Unbearable Lightness of Being, The (1988)', \"Don't Be a Menace to South Central While Drinking Your Juice in the Hood (1996)\", 'Bastard Out of Carolina (1996)', 'War, The (1994)', 'Cops and Robbersons (1994)', 'Believers, The (1987)', 'Bread and Chocolate (Pane e cioccolata) (1973)', 'Amazing Panda Adventure, The (1995)', 'American Buffalo (1996)', 'Love Serenade (1996)', 'Spy Hard (1996)', 'Double Happiness (1994)', 'Wedding Bell Blues (1996)', 'To Catch a Thief (1955)', 'Wife, The (1995)', 'Indian Summer (1996)', 'Lion King, The (1994)', 'Careful (1992)', 'Star Trek IV: The Voyage Home (1986)', 'Boys, Les (1997)', 'Son in Law (1993)', 'Once Upon a Time in America (1984)', 'Ripe (1996)', 'Safe (1995)', 'Shiloh (1997)', 'Midnight Dancers (Sibak) (1994)', 'When We Were Kings (1996)', 'Fly Away Home (1996)', 'Visitors, The (Visiteurs, Les) (1993)', 'Sweet Nothing (1995)', 'Grace of My Heart (1996)', 'Race the Sun (1996)', \"Marvin's Room (1996)\", 'Caught (1996)', 'Adventures of Pinocchio, The (1996)', 'Fearless (1993)', 'Groundhog Day (1993)', 'Warriors of Virtue (1997)', 'Three Wishes (1995)', 'Snow White and the Seven Dwarfs (1937)', 'War Room, The (1993)', 'Misérables, Les (1995)', 'Nénette et Boni (1996)', 'Mortal Kombat (1995)', 'Nelly & Monsieur Arnaud (1995)', 'Relic, The (1997)', 'Pagemaster, The (1994)', 'Liar Liar (1997)', 'To Cross the Rubicon (1991)', 'Brassed Off (1996)', 'Orlando (1993)', 'Fled (1996)', 'Manhattan Murder Mystery (1993)', 'Amateur (1994)', \"I Can't Sleep (J'ai pas sommeil) (1994)\", \"Pete's Dragon (1977)\", 'Endless Summer 2, The (1994)', 'To Kill a Mockingbird (1962)', 'Nixon (1995)', 'Losing Isaiah (1995)', 'Young Guns (1988)', 'Woman in Question, The (1950)', 'Faster Pussycat! Kill! Kill! (1965)', 'Death in Brunswick (1991)', 'Cowboy Way, The (1994)', 'Nil By Mouth (1997)', 'Blues Brothers, The (1980)', 'Courage Under Fire (1996)', 'Oscar & Lucinda (1997)', 'Arsenic and Old Lace (1944)', 'Penny Serenade (1941)', 'Wedding Gift, The (1994)', 'Free Willy 2: The Adventure Home (1995)', 'Dunston Checks In (1996)', 'James and the Giant Peach (1996)', 'Like Water For Chocolate (Como agua para chocolate) (1992)', 'Love Is All There Is (1996)', 'Bloodsport 2 (1995)', 'Copycat (1995)', 'Wyatt Earp (1994)', 'Grass Harp, The (1995)', 'Á köldum klaka (Cold Fever) (1994)', 'World of Apu, The (Apur Sansar) (1959)', \"Ulee's Gold (1997)\", \"C'est arrivé près de chez vous (1992)\", 'Candyman (1992)', 'Mediterraneo (1991)', 'B*A*P*S (1997)', 'Other Voices, Other Rooms (1997)', '2 Days in the Valley (1996)', 'Dead Poets Society (1989)', 'Con Air (1997)', 'Great Dictator, The (1940)', 'Basquiat (1996)', 'Tales From the Crypt Presents: Demon Knight (1995)', 'Program, The (1993)', 'Deconstructing Harry (1997)', 'Bio-Dome (1996)', 'Inspector General, The (1949)', 'Baby-Sitters Club, The (1995)', 'Little Odessa (1994)', 'Jade (1995)', 'Sleepless in Seattle (1993)', 'Intimate Relations (1996)', 'Loaded (1994)', 'Powder (1995)', 'Sex, Lies, and Videotape (1989)', 'Romper Stomper (1992)', 'Talking About Sex (1994)', 'Koyaanisqatsi (1983)', 'Rough Magic (1995)', 'Beat the Devil (1954)', 'Little Women (1994)', 'Virtuosity (1995)', 'Dadetown (1995)', 'Romeo Is Bleeding (1993)', 'Mimic (1997)', 'Grosse Pointe Blank (1997)', \"Bram Stoker's Dracula (1992)\", 'Very Natural Thing, A (1974)', 'Wild Things (1998)', 'Journey of August King, The (1995)', 'Fox and the Hound, The (1981)', 'Death and the Maiden (1994)', 'Cool Hand Luke (1967)', 'Alien (1979)', 'Down by Law (1986)', 'Lightning Jack (1994)', 'Telling Lies in America (1997)', 'Renaissance Man (1994)', 'Citizen Kane (1941)', 'From Dusk Till Dawn (1996)', 'Strawberry and Chocolate (Fresa y chocolate) (1993)', 'Sixth Man, The (1997)', 'Second Jungle Book: Mowgli & Baloo, The (1997)', 'Relative Fear (1994)', 'One Night Stand (1997)', 'Beautiful Thing (1996)', 'Menace II Society (1993)', 'Surviving Picasso (1996)', 'Vie est belle, La (Life is Rosey) (1987)', 'Fire Down Below (1997)', '39 Steps, The (1935)', 'Rebecca (1940)', 'Old Lady Who Walked in the Sea, The (Vieille qui marchait dans la mer, La) (1991)', 'Mighty Aphrodite (1995)', 'Under Siege (1992)', 'Escape from L.A. (1996)', 'Excess Baggage (1997)', 'Traveller (1997)', 'Kaspar Hauser (1993)', 'Farewell My Concubine (1993)', 'Exotica (1994)', 'Bananas (1971)', 'Something to Talk About (1995)', 'Three Lives and Only One Death (1996)', 'Dave (1993)', 'Hugo Pool (1997)', 'Family Thing, A (1996)', 'Heidi Fleiss: Hollywood Madam (1995) ', 'Amadeus (1984)', 'My Crazy Life (Mi vida loca) (1993)', '8 Heads in a Duffel Bag (1997)', 'Radioland Murders (1994)', 'Oliver & Company (1988)', 'Donnie Brasco (1997)', 'Titanic (1997)', 'Three Colors: Red (1994)', 'Thieves (Voleurs, Les) (1996)', 'Roman Holiday (1953)', 'Clear and Present Danger (1994)', 'Cliffhanger (1993)', 'Day the Sun Turned Cold, The (Tianguo niezi) (1994)', 'Angus (1995)', 'Funeral, The (1996)', 'Die xue shuang xiong (Killer, The) (1989)', 'French Kiss (1995)', 'Forbidden Planet (1956)', 'Lotto Land (1995)', 'Coldblooded (1995)', 'Stupids, The (1996)', 'Moonlight and Valentino (1995)', 'Air Bud (1997)', 'Condition Red (1995)', 'Sudden Death (1995)', 'Some Like It Hot (1959)', 'Local Hero (1983)', 'Amityville: Dollhouse (1996)', 'Private Parts (1997)', \"She's the One (1996)\", 'All Over Me (1997)', 'Before and After (1996)', 'Good Will Hunting (1997)', \"Cats Don't Dance (1997)\", 'Alphaville (1965)', 'Don Juan DeMarco (1995)', 'Wolf (1994)', 'Children of the Revolution (1996)', 'Madonna: Truth or Dare (1991)', 'Cronos (1992)', 'M. Butterfly (1993)', 'Killing Zoe (1994)', 'Conan the Barbarian (1981)', 'Victor/Victoria (1982)', 'Afterglow (1997)', 'Great Escape, The (1963)', 'Denise Calls Up (1995)', 'Assignment, The (1997)', 'Star Trek: The Wrath of Khan (1982)', 'Cinema Paradiso (1988)', 'Newton Boys, The (1998)', 'Dirty Dancing (1987)', 'Hedd Wyn (1992)', 'The Innocent (1994)', 'Drop Dead Fred (1991)', 'I Know What You Did Last Summer (1997)', 'Yankee Zulu (1994)', 'Love Affair (1994)', 'New Jersey Drive (1995)', 'Bad Moon (1996)', 'Inkwell, The (1994)', 'Original Gangstas (1996)', 'Priest (1994)', 'Shaggy Dog, The (1959)', 'Feast of July (1995)', 'Dark City (1998)', \"Weekend at Bernie's (1989)\", 'Babyfever (1994)', \"Dante's Peak (1997)\", 'Bad Girls (1994)', 'Pink Floyd - The Wall (1982)', 'Squeeze (1996)', 'Raise the Red Lantern (1991)', 'Carrington (1995)', 'Walk in the Clouds, A (1995)', 'Losing Chase (1996)', 'Blue in the Face (1995)', 'Tom & Viv (1994)', 'Month by the Lake, A (1995)', 'Power 98 (1995)', 'Down Periscope (1996)', 'Across the Sea of Time (1995)', 'Glory (1989)', 'Apostle, The (1997)', 'Prophecy, The (1995)', 'Peacemaker, The (1997)', 'Only You (1994)', 'Everyone Says I Love You (1996)', 'In the Company of Men (1997)', 'Sprung (1997)', 'Road to Wellville, The (1994)', 'It Could Happen to You (1994)', \"April Fool's Day (1986)\", 'Contempt (Mépris, Le) (1963)', 'Sunchaser, The (1996)', 'Ace Ventura: When Nature Calls (1995)', 'Lost World: Jurassic Park, The (1997)', 'White Squall (1996)', 'Return of the Pink Panther, The (1974)', 'Collectionneuse, La (1967)', 'Seven (Se7en) (1995)', 'Love Jones (1997)', 'Steel (1997)', 'Pather Panchali (1955)', 'Ghost and Mrs. Muir, The (1947)', 'Star Kid (1997)', 'Grease 2 (1982)', 'Tetsuo II: Body Hammer (1992)', 'Star Maps (1997)', 'Days of Thunder (1990)', 'Kundun (1997)', 'Promesse, La (1996)', 'Serial Mom (1994)', 'Four Days in September (1997)', 'Thinner (1996)', 'Batman & Robin (1997)', 'Love & Human Remains (1993)', 'Henry V (1989)', 'In the Bleak Midwinter (1995)', 'Walking Dead, The (1995)', 'Flirting With Disaster (1996)', 'Leopard Son, The (1996)', 'Bound (1996)', 'Private Benjamin (1980)', 'Meet John Doe (1941)', 'Apollo 13 (1995)', 'Rear Window (1954)', 'Space Jam (1996)', 'Ghost (1990)', 'Seventh Seal, The (Sjunde inseglet, Det) (1957)', 'Pie in the Sky (1995)', 'Raising Arizona (1987)', 'Men With Guns (1997)', 'Alaska (1996)', 'Switchblade Sisters (1975)', 'Third Man, The (1949)', 'Big Bully (1996)', 'Miami Rhapsody (1995)', 'Richard III (1995)', 'Sudden Manhattan (1996)', 'Usual Suspects, The (1995)', \"Pharaoh's Army (1995)\", 'Sabrina (1954)', 'Kiss Me, Guido (1997)', 'Night on Earth (1991)', 'Brothers in Trouble (1995)', 'Last Dance (1996)', 'Killer (Bulletproof Heart) (1994)', 'Hana-bi (1997)', 'Showgirls (1995)', 'Secrets & Lies (1996)', 'Nosferatu (Nosferatu, eine Symphonie des Grauens) (1922)', 'Desert Winds (1995)', 'How to Be a Player (1997)', 'Last of the Mohicans, The (1992)', 'Disclosure (1994)', 'Prophecy II, The (1998)', 'Conspiracy Theory (1997)', 'Big Green, The (1995)', 'Man of No Importance, A (1994)', 'In Love and War (1996)', 'Trigger Effect, The (1996)', 'Story of Xinghua, The (1993)', 'Angel Baby (1995)', 'Amistad (1997)', 'Madness of King George, The (1994)', 'New Age, The (1994)', 'Herbie Rides Again (1974)', 'Hearts and Minds (1996)', 'Jury Duty (1995)', 'E.T. the Extra-Terrestrial (1982)', 'Die Hard: With a Vengeance (1995)', 'Drunks (1995)', \"Wooden Man's Bride, The (Wu Kui) (1994)\", 'Miracle on 34th Street (1994)', 'Shanghai Triad (Yao a yao yao dao waipo qiao) (1995)', 'Birds, The (1963)', 'What Happened Was... (1994)', 'Pretty Woman (1990)', 'Hellraiser: Bloodline (1996)', 'Spawn (1997)', 'Star Trek: Generations (1994)', 'An Unforgettable Summer (1994)', 'Picture Perfect (1997)', 'Once Were Warriors (1994)', 'Paper, The (1994)', 'Clockwork Orange, A (1971)', 'Bushwhacked (1995)', 'Duck Soup (1933)', 'Innocents, The (1961)', 'Rosencrantz and Guildenstern Are Dead (1990)', 'Nothing Personal (1995)', 'Delta of Venus (1994)', 'Faces (1968)', 'Kalifornia (1993)', 'Desperado (1995)', 'Mrs. Winterbourne (1996)', 'L.A. Confidential (1997)', 'Kingpin (1996)', 'Twelve Monkeys (1995)', 'Of Human Bondage (1934)', 'Hunt for Red October, The (1990)', 'Birdcage, The (1996)', 'Primary Colors (1998)', 'Day the Earth Stood Still, The (1951)', 'Grumpier Old Men (1995)', 'Candidate, The (1972)', 'Dial M for Murder (1954)', \"Star Maker, The (Uomo delle stelle, L') (1995)\", 'Stand by Me (1986)', \"I Don't Want to Talk About It (De eso no se habla) (1993)\", 'Last Klezmer: Leopold Kozlowski, His Life and Music, The (1995)', 'Little Big League (1994)', 'SubUrbia (1997)', 'Real Genius (1985)', 'Bewegte Mann, Der (1994)', 'Head Above Water (1996)', \"It's a Wonderful Life (1946)\", 'Home Alone (1990)', 'City of Industry (1997)', 'August (1996)', 'Promise, The (Versprechen, Das) (1994)', \"Some Mother's Son (1996)\", 'Pump Up the Volume (1990)', 'Old Man and the Sea, The (1958)', 'Stranger, The (1994)', \"Margaret's Museum (1995)\", 'Flubber (1997)', \"Ed's Next Move (1996)\", 'Perfect Candidate, A (1996)', 'Grosse Fatigue (1994)', 'Back to the Future (1985)', 'American Dream (1990)', \"Sophie's Choice (1982)\", 'River Wild, The (1994)', 'Seven Years in Tibet (1997)', 'This Is Spinal Tap (1984)', 'House of the Spirits, The (1993)', \"Devil's Advocate, The (1997)\", 'Slingshot, The (1993)', 'Jaws (1975)', 'Further Gesture, A (1996)', 'Dream Man (1995)', 'Looking for Richard (1996)', 'Evita (1996)', 'Maltese Falcon, The (1941)', 'Out to Sea (1997)', 'Mark of Zorro, The (1940)', \"William Shakespeare's Romeo and Juliet (1996)\", 'Adventures of Priscilla, Queen of the Desert, The (1994)', 'Thin Blue Line, The (1988)', 'It Takes Two (1995)', 'Sliver (1993)', 'Breakdown (1997)', 'Nico Icon (1995)', 'Vanya on 42nd Street (1994)', 'Meet Wally Sparks (1997)', 'King of New York (1990)', 'Volcano (1997)', 'Star Trek III: The Search for Spock (1984)', 'Reckless (1995)', 'Withnail and I (1987)', 'Cold Comfort Farm (1995)', 'Nothing to Lose (1994)', 'Close Shave, A (1995)', 'Butcher Boy, The (1998)', 'Scream (1996)', 'Delicatessen (1991)', 'One Fine Day (1996)', 'Everest (1998)', 'Cry, the Beloved Country (1995)', 'True Crime (1995)', 'City Hall (1996)', 'Office Killer (1997)', 'Rent-a-Kid (1995)', '187 (1997)', 'Band Wagon, The (1953)', 'Red Firecracker, Green Firecracker (1994)', 'Mystery Science Theater 3000: The Movie (1996)', 'Devil in a Blue Dress (1995)', 'Fallen (1998)', 'Trainspotting (1996)', 'Cabin Boy (1994)', 'Suture (1993)', 'Boxing Helena (1993)', 'Man Who Would Be King, The (1975)', 'Fish Called Wanda, A (1988)', 'Murder, My Sweet (1944)', 'Scarlet Letter, The (1926)', 'White Balloon, The (1995)', 'Hunchback of Notre Dame, The (1996)', 'Chasers (1994)', 'Ma vie en rose (My Life in Pink) (1997)', 'Jumanji (1995)', 'English Patient, The (1996)', 'Mrs. Parker and the Vicious Circle (1994)', \"Mat' i syn (1997)\", 'Now and Then (1995)', 'Quiet Man, The (1952)', 'Foreign Correspondent (1940)', 'Jaws 2 (1978)', 'Big Night (1996)', 'Two if by Sea (1996)', 'Dolores Claiborne (1994)', \"What's Eating Gilbert Grape (1993)\", 'African Queen, The (1951)', 'Twilight (1998)', 'Commandments (1997)', 'Nosferatu a Venezia (1986)', 'Bird of Prey (1996)', 'So Dear to My Heart (1949)', 'Run of the Country, The (1995)', 'Lashou shentan (1992)', 'Gattaca (1997)', 'Man Without a Face, The (1993)', 'Flower of My Secret, The (Flor de mi secreto, La) (1995)', 'Ill Gotten Gains (1997)', 'Hudsucker Proxy, The (1994)', 'Bedknobs and Broomsticks (1971)', 'Species (1995)', 'Umbrellas of Cherbourg, The (Parapluies de Cherbourg, Les) (1964)', 'Goofy Movie, A (1995)', 'Top Gun (1986)', 'Best of the Best 3: No Turning Back (1995)', 'Time to Kill, A (1996)', 'Terror in a Texas Town (1958)', 'Reality Bites (1994)', 'Big One, The (1997)', 'I Love Trouble (1994)', 'Heat (1995)', 'First Wives Club, The (1996)', 'Vampire in Brooklyn (1995)', 'Somebody to Love (1994)', 'Infinity (1996)', 'M*A*S*H (1970)', 'Bitter Moon (1992)', 'Major Payne (1994)', 'Cop Land (1997)', 'Shooting Fish (1997)', 'Bronx Tale, A (1993)', 'Howling, The (1981)', 'Lawnmower Man, The (1992)', 'Dangerous Minds (1995)', 'Being Human (1993)', 'Rudy (1993)', 'Princess Caraboo (1994)', 'Three Colors: White (1994)', 'Little City (1998)', 'Kama Sutra: A Tale of Love (1996)', 'Convent, The (Convento, O) (1995)', 'Sirens (1994)', 'Savage Nights (Nuits fauves, Les) (1992)', 'Unforgiven (1992)', 'Exit to Eden (1994)', 'Wild Bill (1995)', 'That Old Feeling (1997)', 'Firm, The (1993)', 'Ed Wood (1994)', 'Tango Lesson, The (1997)', 'Fear of a Black Hat (1993)', 'Fresh (1994)', \"Wend Kuuni (God's Gift) (1982)\", 'Kim (1950)', 'Farmer & Chase (1995)', 'Underworld (1997)', 'Lord of Illusions (1995)', 'Killing Fields, The (1984)', 'Touki Bouki (Journey of the Hyena) (1973)', 'Citizen Ruth (1996)', 'Wallace & Gromit: The Best of Aardman Animation (1996)', 'Good, The Bad and The Ugly, The (1966)', 'Father of the Bride Part II (1995)', 'Tomorrow Never Dies (1997)', \"Young Poisoner's Handbook, The (1995)\", 'Big Lebowski, The (1998)', 'Bhaji on the Beach (1993)', 'Candyman: Farewell to the Flesh (1995)', 'Mrs. Doubtfire (1993)', 'Night of the Living Dead (1968)', 'Geronimo: An American Legend (1993)', \"Joe's Apartment (1996)\", 'Niagara, Niagara (1997)', 'Kissed (1996)', 'Much Ado About Nothing (1993)', 'Hour of the Pig, The (1993)', 'Search for One-eye Jimmy, The (1996)', 'Judgment Night (1993)', \"Pyromaniac's Love Story, A (1995)\", 'Fear, The (1995)', 'Black Sheep (1996)', 'Platoon (1986)', 'Striking Distance (1993)', 'Babe (1995)', 'For Ever Mozart (1996)', 'Sphere (1998)', 'That Thing You Do! (1996)', 'Apt Pupil (1998)', 'NeverEnding Story III, The (1994)', 'High Noon (1952)', 'Grease (1978)', 'Hot Shots! Part Deux (1993)', 'Zeus and Roxanne (1997)', 'Paradise Road (1997)', 'Airheads (1994)', 'Madame Butterfly (1995)', 'Venice/Venice (1992)', 'Whole Wide World, The (1996)', 'When Harry Met Sally... (1989)', 'Kolya (1996)', 'Crow, The (1994)', 'Scream of Stone (Schrei aus Stein) (1991)', 'True Romance (1993)', 'Boot, Das (1981)', 'Mille bolle blu (1993)', 'Jaws 3-D (1983)', 'Young Frankenstein (1974)', \"Brother's Kiss, A (1997)\", 'Starship Troopers (1997)', 'Wizard of Oz, The (1939)', 'My Favorite Year (1982)', 'Dumbo (1941)', 'Nine Months (1995)', 'Blue Sky (1994)', 'Rendezvous in Paris (Rendez-vous de Paris, Les) (1995)', 'JLG/JLG - autoportrait de décembre (1994)', 'Mute Witness (1994)', 'Rumble in the Bronx (1995)', 'Mina Tannenbaum (1994)', 'Brazil (1985)', 'Total Eclipse (1995)', 'Great White Hype, The (1996)', \"City Slickers II: The Legend of Curly's Gold (1994)\", 'Heathers (1989)', 'Indian in the Cupboard, The (1995)', 'Angels in the Outfield (1994)', 'Shadow of Angels (Schatten der Engel) (1976)', 'Angels and Insects (1995)', 'Ciao, Professore! (1993)', 'Prisoner of the Mountains (Kavkazsky Plennik) (1996)', 'Underground (1995)', 'Big Blue, The (Grand bleu, Le) (1988)', 'Evil Dead II (1987)', 'Ran (1985)', 'Scarlet Letter, The (1995)', 'Fast, Cheap & Out of Control (1997)', 'Georgia (1995)', 'Old Yeller (1957)', 'Palookaville (1996)', 'Pushing Hands (1992)', \"Someone Else's America (1995)\", 'Love in the Afternoon (1957)', 'Outlaw, The (1943)', 'Children of the Corn: The Gathering (1996)', 'Postino, Il (1994)', 'Get on the Bus (1996)', 'Raw Deal (1948)', 'Life Less Ordinary, A (1997)', 'Women, The (1939)', 'Living in Oblivion (1995)', 'Incognito (1997)', 'Persuasion (1995)', 'Hamlet (1996)', 'Two Deaths (1995)', 'Jackal, The (1997)', 'Hotel de Love (1996)', 'Mulholland Falls (1996)', 'To Live (Huozhe) (1994)', 'Addiction, The (1995)', 'Anna (1996)', 'American in Paris, An (1951)', 'Robin Hood: Prince of Thieves (1991)', 'Basic Instinct (1992)', 'Up Close and Personal (1996)', 'American President, The (1995)', 'No Escape (1994)', 'Fall (1997)', 'Father of the Bride (1950)', 'Trial by Jury (1994)', 'Saint of Fort Washington, The (1993)', 'Demolition Man (1993)', 'Amityville 3-D (1983)', 'Highlander (1986)', 'Men in Black (1997)', 'Kull the Conqueror (1997)', 'Truth About Cats & Dogs, The (1996)', 'Home for the Holidays (1995)', 'Blue Chips (1994)', 'Johns (1996)', 'Magic Hour, The (1998)', 'Jane Eyre (1996)', \"Roseanna's Grave (For Roseanna) (1997)\", 'Spellbound (1945)', 'Abyss, The (1989)', 'Walking and Talking (1996)', 'Alien 3 (1992)', 'Net, The (1995)', 'Gumby: The Movie (1995)', 'Marked for Death (1990)', 'Truman Show, The (1998)', 'MatchMaker, The (1997)', 'Notorious (1946)', 'Open Season (1996)', 'Time Tracers (1995)', 'Solo (1996)', 'Graduate, The (1967)', 'Milk Money (1994)', 'Deep Rising (1998)', 'Hercules (1997)', 'Blob, The (1958)', 'Chasing Amy (1997)', 'Wrong Trousers, The (1993)', 'Barbarella (1968)', 'Laura (1944)', 'Top Hat (1935)', 'Tales from the Hood (1995)', 'Kids in the Hall: Brain Candy (1996)', 'Backbeat (1993)', 'Ready to Wear (Pret-A-Porter) (1994)', 'Outbreak (1995)', 'Shadow, The (1994)', 'Ghost and the Darkness, The (1996)', 'Crows and Sparrows (1949)', 'Gigi (1958)', 'Swimming with Sharks (1995)', 'Specialist, The (1994)', 'Fair Game (1995)', 'Cinderella (1950)', \"She's So Lovely (1997)\", 'Sabrina (1995)', \"Mr. Holland's Opus (1995)\", 'Maverick (1994)', 'Tin Cup (1996)', 'Sunset Park (1996)', 'How to Make an American Quilt (1995)', 'B. Monkey (1998)', 'Full Metal Jacket (1987)', 'Mad Dog Time (1996)', 'Chungking Express (1994)', 'Unforgettable (1996)', 'Girl in the Cadillac (1995)', 'Spice World (1997)', 'Moll Flanders (1996)', 'M (1931)', 'Beyond Rangoon (1995)', 'Stag (1997)', 'Last Summer in the Hamptons (1995)', 'Heavy (1995)', 'Forbidden Christ, The (Cristo proibito, Il) (1950)', 'He Walked by Night (1948)', 'Hear My Song (1991)', \"Rich Man's Wife, The (1996)\", 'Every Other Weekend (1990)', 'Getting Away With Murder (1996)', 'Bitter Sugar (Azucar Amargo) (1996)', 'Boys Life (1995)', 'Of Love and Shadows (1994)', 'When Night Is Falling (1995)', 'Cure, The (1995)', 'Four Weddings and a Funeral (1994)', 'Annie Hall (1977)', 'Great Race, The (1965)', 'Robocop 3 (1993)', 'Booty Call (1997)', 'Austin Powers: International Man of Mystery (1997)', 'King of the Hill (1993)', 'Lost in Space (1998)', 'Wild Bunch, The (1969)', 'Legal Deceit (1997)', 'Little Princess, A (1995)', 'Cook the Thief His Wife & Her Lover, The (1989)', 'Coneheads (1993)', 'Crash (1996)', 'Truth or Consequences, N.M. (1997)', 'To Gillian on Her 37th Birthday (1996)', 'Client, The (1994)', 'Fargo (1996)', 'Up in Smoke (1978)', 'Bye Bye, Love (1995)', 'Rebel Without a Cause (1955)', 'My Favorite Season (1993)', 'Crucible, The (1996)', 'Island of Dr. Moreau, The (1996)', 'Once Upon a Time... When We Were Colored (1995)', 'Bloody Child, The (1996)', 'Cemetery Man (Dellamorte Dellamore) (1994)', 'Nina Takes a Lover (1994)', 'Muppet Treasure Island (1996)', \"Gridlock'd (1997)\", 'Beverly Hills Cop III (1994)', 'Mirror Has Two Faces, The (1996)', 'Gabbeh (1996)', 'That Darn Cat! (1997)', 'Wishmaster (1997)', 'Johnny Mnemonic (1995)', 'Contact (1997)', 'Celtic Pride (1996)', 'Damsel in Distress, A (1937)', \"Things to Do in Denver when You're Dead (1995)\", \"Smilla's Sense of Snow (1997)\", 'Quartier Mozart (1992)', 'Fluke (1995)', 'Mask, The (1994)', 'Cape Fear (1991)', 'Happy Gilmore (1996)', 'I.Q. (1994)', 'Matilda (1996)', 'Garden of Finzi-Contini, The (Giardino dei Finzi-Contini, Il) (1970)', 'American Werewolf in London, An (1981)', 'Thin Line Between Love and Hate, A (1996)', 'Underneath, The (1995)', 'Three Musketeers, The (1993)', 'To Die For (1995)', 'Evening Star, The (1996)', 'Neon Bible, The (1995)', 'Maximum Risk (1996)', 'Philadelphia Story, The (1940)', 'Aladdin and the King of Thieves (1996)', 'Sliding Doors (1998)', 'Angel and the Badman (1947)', 'Love Bug, The (1969)', 'Marlene Dietrich: Shadow and Light (1996) ', 'Brothers McMullen, The (1995)', 'Red Corner (1997)', 'Vertigo (1958)', 'Beverly Hills Ninja (1997)', 'Terminal Velocity (1994)', 'Bad Taste (1987)', 'Feeling Minnesota (1996)', 'Clean Slate (1994)', 'Sling Blade (1996)', 'Vermont Is For Lovers (1992)', 'Nightmare on Elm Street, A (1984)', 'Girls Town (1996)', 'Leading Man, The (1996)', 'Blues Brothers 2000 (1998)', 'Fierce Creatures (1997)', 'Phantoms (1998)', 'Nutty Professor, The (1996)', 'Stranger in the House (1997)', 'City of Angels (1998)', 'Red Rock West (1992)', 'Mission: Impossible (1996)', 'In the Name of the Father (1993)', 'My Left Foot (1989)', 'Gay Divorcee, The (1934)', 'Manhattan (1979)', \"Jupiter's Wife (1994)\", 'Reluctant Debutante, The (1958)', 'Star Wars (1977)', 'GoldenEye (1995)', 'Frisk (1995)', 'Lone Star (1996)', 'Letter From Death Row, A (1998)', 'Twister (1996)', 'Captives (1994)', 'Psycho (1960)', 'Senseless (1998)', 'Larger Than Life (1996)', 'Free Willy (1993)', 'Two Much (1996)', 'Secret Adventures of Tom Thumb, The (1993)', 'Amityville II: The Possession (1982)', \"Jason's Lyric (1994)\", 'Lady of Burlesque (1943)', 'Manny & Lo (1996)', 'Cool Runnings (1993)', 'In the Army Now (1994)', 'Ponette (1996)', 'Burnt By the Sun (1994)', 'Lost Highway (1997)', 'Event Horizon (1997)', 'Fan, The (1996)', 'Haunted World of Edward D. Wood Jr., The (1995)', 'Kids (1995)', 'Wild Reeds (1994)', 'Murder at 1600 (1997)', 'Eddie (1996)', 'War at Home, The (1996)', 'Restoration (1995)', 'Searching for Bobby Fischer (1993)', 'Hush (1998)', 'Omen, The (1976)', 'Die Hard 2 (1990)', \"Microcosmos: Le peuple de l'herbe (1996)\", 'Sting, The (1973)', 'Mr. Wonderful (1993)', 'Love and Death on Long Island (1997)', 'Bonnie and Clyde (1967)', 'Man in the Iron Mask, The (1998)', 'Late Bloomers (1996)', 'Two Bits (1995)', 'Crossfire (1947)', 'Welcome To Sarajevo (1997)', 'Killer: A Journal of Murder (1995)', 'Fools Rush In (1997)', 'In the Line of Fire (1993)', 'Get Shorty (1995)', 'Fatal Instinct (1993)', 'Hard Rain (1998)', 'Critical Care (1997)', 'Godfather: Part II, The (1974)', 'Walk in the Sun, A (1945)', 'Good Man in Africa, A (1994)', 'Fried Green Tomatoes (1991)', \"Monty Python's Life of Brian (1979)\", 'Naked in New York (1994)', 'Angel on My Shoulder (1946)', 'Taxi Driver (1976)', 'Carried Away (1996)', 'Price Above Rubies, A (1998)', '101 Dalmatians (1996)', 'Phantom, The (1996)', 'Chairman of the Board (1998)', 'Pillow Book, The (1995)', 'When the Cats Away (Chacun cherche son chat) (1996)', 'Poison Ivy II (1995)', 'Eat Drink Man Woman (1994)', 'Hurricane Streets (1998)', 'First Knight (1995)', 'Bed of Roses (1996)', 'Big Sleep, The (1946)', 'Gone with the Wind (1939)', 'Casino (1995)', 'Ben-Hur (1959)', 'In the Realm of the Senses (Ai no corrida) (1976)', 'Lawrence of Arabia (1962)', 'Tin Men (1987)', 'Deceiver (1997)', 'Paris Was a Woman (1995)', 'Theodore Rex (1995)', 'Enchanted April (1991)', \"Heaven's Prisoners (1996)\", 'Prefontaine (1997)', 'On Golden Pond (1981)', 'Century (1993)', 'Parent Trap, The (1961)', 'Great Expectations (1998)', 'Wonderland (1997)', 'Ninotchka (1939)', 'I, Worst of All (Yo, la peor de todas) (1990)', 'Transformers: The Movie, The (1986)', 'City of Lost Children, The (1995)', 'Edge, The (1997)', 'Getaway, The (1994)', \"Schindler's List (1993)\", 'Billy Madison (1995)', 'Replacement Killers, The (1998)', 'Calendar Girl (1993)', 'Ace Ventura: Pet Detective (1994)', 'Love! Valour! Compassion! (1997)', 'Rosewood (1997)', 'Stargate (1994)', 'Hideaway (1995)', 'Screamers (1995)', 'T-Men (1947)', 'Man from Down Under, The (1943)', 'Jack (1996)', 'Circle of Friends (1995)', 'Dead Man Walking (1995)', 'My Own Private Idaho (1991)', 'Akira (1988)', 'Faust (1994)', 'Toy Story (1995)', 'Broken English (1996)', 'Men of Means (1998)', 'Stealing Beauty (1996)', 'Bridge on the River Kwai, The (1957)', 'Last Action Hero (1993)', 'Dangerous Ground (1997)', 'Homage (1995)', 'Horse Whisperer, The (1998)', 'With Honors (1994)', 'Affair to Remember, An (1957)', 'Jurassic Park (1993)', 'Etz Hadomim Tafus (Under the Domin Tree) (1994)', 'Eighth Day, The (1996)', 'Beauty and the Beast (1991)', 'Mars Attacks! (1996)', 'Castle Freak (1995)', 'Manon of the Spring (Manon des sources) (1986)', 'Modern Affair, A (1995)', 'It Happened One Night (1934)', 'Butterfly Kiss (1995)', 'Mamma Roma (1962)', 'Butch Cassidy and the Sundance Kid (1969)', 'Fausto (1993)', 'Brady Bunch Movie, The (1995)', 'Fear (1996)', 'Balto (1995)', 'Under Siege 2: Dark Territory (1995)', 'Ayn Rand: A Sense of Life (1997)', 'Empire Strikes Back, The (1980)', 'All Things Fair (1996)', 'Before Sunrise (1995)', \"Eve's Bayou (1997)\", 'House of Yes, The (1997)', 'Nemesis 2: Nebula (1995)', 'Free Willy 3: The Rescue (1997)', \"Daniel Defoe's Robinson Crusoe (1996)\", 'Cat on a Hot Tin Roof (1958)', 'Raging Bull (1980)', 'Mouse Hunt (1997)', 'Belle de jour (1967)', 'Corrina, Corrina (1994)', 'Object of My Affection, The (1998)', 'Liebelei (1933)', 'Army of Darkness (1993)', 'Mixed Nuts (1994)', 'Patton (1970)', 'High School High (1996)', 'Murder in the First (1995)', 'Death in the Garden (Mort en ce jardin, La) (1956)', 'Quiet Room, The (1996)', 'Beans of Egypt, Maine, The (1994)', 'Flesh and Bone (1993)', 'Wedding Singer, The (1998)', 'Small Faces (1995)', 'Tainted (1998)', 'Smile Like Yours, A (1997)', 'Anastasia (1997)', \"McHale's Navy (1997)\", 'Germinal (1993)', '8 1/2 (1963)', 'Paris, Texas (1984)', 'Loch Ness (1995)', 'Little Buddha (1993)', 'Joy Luck Club, The (1993)', 'Police Story 4: Project S (Chao ji ji hua) (1993)', 'Boys on the Side (1995)', 'Body Parts (1991)', 'Show, The (1995)', 'Basketball Diaries, The (1995)', 'Nadja (1994)', 'Braveheart (1995)', 'Before the Rain (Pred dozhdot) (1994)', 'Richie Rich (1994)', 'Doors, The (1991)', 'Room with a View, A (1986)', 'Shallow Grave (1994)', 'Kiss of Death (1995)', 'Phat Beach (1996)', 'Tough and Deadly (1995)', 'Rhyme & Reason (1997)', 'Caro Diario (Dear Diary) (1994)', 'His Girl Friday (1940)', 'Blood & Wine (1997)', 'Simple Wish, A (1997)', 'Daens (1992)', 'Ice Storm, The (1997)', 'Swan Princess, The (1994)', 'Ed (1996)', 'All Dogs Go to Heaven 2 (1996)', 'U.S. Marshalls (1998)', 'Giant (1956)', 'Maya Lin: A Strong Clear Vision (1994)', 'FairyTale: A True Story (1997)', 'Destiny Turns on the Radio (1995)', 'Rising Sun (1993)', 'Davy Crockett, King of the Wild Frontier (1955)', 'Gordy (1995)', 'Executive Decision (1996)', 'Go Fish (1994)', 'Monty Python and the Holy Grail (1974)', 'Andre (1994)', 'North by Northwest (1959)', 'Land and Freedom (Tierra y libertad) (1995)', 'Hate (Haine, La) (1995)', 'Funny Face (1957)', 'Love and Other Catastrophes (1996)', 'Heaven & Earth (1993)', 'House Arrest (1996)', 'Johnny 100 Pesos (1993)', 'Little Rascals, The (1994)', \"Breakfast at Tiffany's (1961)\", 'Faithful (1996)', 'Bent (1997)', 'Kicked in the Head (1997)', 'Judge Dredd (1995)', 'Turbo: A Power Rangers Movie (1997)', 'Portrait of a Lady, The (1996)', 'Super Mario Bros. (1993)', 'Dumb & Dumber (1994)', 'Wings of Courage (1995)', 'Swiss Family Robinson (1960)', 'Alice in Wonderland (1951)', 'Bottle Rocket (1996)', 'In the Line of Duty 2 (1987)', 'Some Kind of Wonderful (1987)', 'Clerks (1994)', 'To Have, or Not (1995)', 'Dr. Strangelove or: How I Learned to Stop Worrying and Love the Bomb (1963)', 'Crude Oasis, The (1995)', 'Above the Rim (1994)', 'Locusts, The (1997)', 'Pompatus of Love, The (1996)', 'Fire on the Mountain (1996)', 'Ghost in the Shell (Kokaku kidotai) (1995)', 'Crimson Tide (1995)', 'Bulletproof (1996)', 'Clean Slate (Coup de Torchon) (1981)', 'Silence of the Lambs, The (1991)', 'Hoop Dreams (1994)', 'Mary Poppins (1964)', 'Christmas Carol, A (1938)', 'Striptease (1996)', 'Grateful Dead (1995)', \"Amityville 1992: It's About Time (1992)\", '1-900 (1994)', 'Amos & Andrew (1993)', 'Shining, The (1980)', 'Blink (1994)', 'Escape from New York (1981)', \"White Man's Burden (1995)\", 'Best Men (1997)', 'Strictly Ballroom (1992)', 'Turbulence (1997)', 'Golden Earrings (1947)', 'Santa with Muscles (1996)', 'Cement Garden, The (1993)', 'Tin Drum, The (Blechtrommel, Die) (1979)', 'Kika (1993)', 'Ladybird Ladybird (1994)', 'Hard Target (1993)', 'Smoke (1995)', 'Ref, The (1994)', \"Wes Craven's New Nightmare (1994)\", 'Waiting for Guffman (1996)', 'Winter Guest, The (1997)', 'Kansas City (1996)', 'Dangerous Beauty (1998)', 'Mother (1996)', 'Dingo (1992)', 'Last Time I Committed Suicide, The (1997)', 'Postman, The (1997)', 'Celluloid Closet, The (1995)', 'Nightwatch (1997)', \"My Life and Times With Antonin Artaud (En compagnie d'Antonin Artaud) (1993)\", 'Beavis and Butt-head Do America (1996)', 'Roommates (1995)', 'Ballad of Narayama, The (Narayama Bushiko) (1958)', 'Glass Shield, The (1994)', 'Night Falls on Manhattan (1997)', 'Last Man Standing (1996)', 'Pest, The (1997)', 'Two Friends (1986) ', 'In & Out (1997)', 'Field of Dreams (1989)', 'Amityville Horror, The (1979)', 'Threesome (1994)', '20,000 Leagues Under the Sea (1954)', 'Nikita (La Femme Nikita) (1990)', 'Spanish Prisoner, The (1997)', 'Foxfire (1996)', 'U Turn (1997)', 'Love and a .45 (1994)', \"I'm Not Rappaport (1996)\", 'Quick and the Dead, The (1995)', 'Double vie de Véronique, La (Double Life of Veronique, The) (1991)', 'Kiss the Girls (1997)', 'Substitute, The (1996)', 'Pinocchio (1940)', 'Rob Roy (1995)', 'Wings of Desire (1987)', 'Shooter, The (1995)', 'Keys to Tulsa (1997)', 'Full Speed (1996)', 'Apocalypse Now (1979)', 'Mercury Rising (1998)', 'Gate of Heavenly Peace, The (1995)', 'Nobody Loves Me (Keiner liebt mich) (1994)', 'Colonel Chabert, Le (1994)', \"Preacher's Wife, The (1996)\", 'Celestial Clockwork (1994)', 'Eye for an Eye (1996)', 'Naked (1993)', 'Six Degrees of Separation (1993)', 'Low Down Dirty Shame, A (1994)', 'Wild America (1997)', 'Dead Presidents (1995)', 'Star Trek VI: The Undiscovered Country (1991)', 'Houseguest (1994)', 'Charade (1963)', 'Diabolique (1996)', 'Blade Runner (1982)', 'Stalingrad (1993)', 'Shopping (1994)', 'Better Off Dead... (1985)', \"It's My Party (1995)\", 'Land Before Time III: The Time of the Great Giving (1995) (V)', 'Touch of Evil (1958)', 'Dazed and Confused (1993)', 'Around the World in 80 Days (1956)', 'Crumb (1994)', 'Magnificent Seven, The (1954)', 'Foreign Student (1994)', 'Guantanamera (1994)', 'Anna Karenina (1997)', 'Absolute Power (1997)', 'Strange Days (1995)', 'Somewhere in Time (1980)', 'American Strays (1996)', 'MURDER and murder (1996)', 'Selena (1997)', 'Body Snatcher, The (1945)', 'Barcelona (1994)', 'Natural Born Killers (1994)', 'Lamerica (1994)', 'Gaslight (1944)', 'Higher Learning (1995)', 'Right Stuff, The (1983)', 'Next Step, The (1995)', 'Scream 2 (1997)', 'Friday (1995)', 'Shall We Dance? (1937)', 'Barb Wire (1996)', 'Jerky Boys, The (1994)', 'Saint, The (1997)', 'Cosi (1996)', 'Kazaam (1996)', 'Stuart Saves His Family (1995)', 'If Lucy Fell (1996)', 'Michael (1996)', 'Big Squeeze, The (1996)', 'Three Colors: Blue (1993)', 'Nowhere (1997)', 'Girl 6 (1996)', 'Money Train (1995)', 'Secret of Roan Inish, The (1994)', 'Mr. Wrong (1996)', \"One Flew Over the Cuckoo's Nest (1975)\", 'Baton Rouge (1988)', 'Treasure of the Sierra Madre, The (1948)', 'Chamber, The (1996)', 'Dracula: Dead and Loving It (1995)', 'Air Force One (1997)', \"Blood For Dracula (Andy Warhol's Dracula) (1974)\", \"'Til There Was You (1997)\", 'Touch (1997)', 'Metisse (Café au Lait) (1993)', 'Jimmy Hollywood (1994)', 'Getting Even with Dad (1994)', \"Nobody's Fool (1994)\", 'Lost Horizon (1937)', 'Salut cousin! (1996)', 'Breaking the Waves (1996)', 'Secret Garden, The (1993)', 'Cutthroat Island (1995)', 'Flirt (1995)', 'Gandhi (1982)', 'Cobb (1994)', 'A Chef in Love (1996)', 'Pulp Fiction (1994)', 'Mr. Magoo (1997)', 'The Deadly Cure (1996)', 'Willy Wonka and the Chocolate Factory (1971)', 'Sleepers (1996)', 'Mr. Jones (1993)', 'Twisted (1996)', '8 Seconds (1994)', 'Boys in Venice (1996)', 'Boys of St. Vincent, The (1993)', 'Harriet the Spy (1996)', 'Safe Passage (1994)', 'Female Perversions (1996)', \"Stephen King's The Langoliers (1995)\", 'Mondo (1996)', 'Boomerang (1992)', 'Casablanca (1942)', 'Cat People (1982)', 'Favor, The (1994)', 'Walkabout (1971)', 'French Twist (Gazon maudit) (1995)', 'George of the Jungle (1997)', 'Batman Returns (1992)', 'Associate, The (1996)', \"Boy's Life 2 (1997)\", 'You So Crazy (1994)', 'Color of Night (1994)', 'Perez Family, The (1995)', 'Phenomenon (1996)', \"Antonia's Line (1995)\", 'Thin Man, The (1934)', 'Naked Gun 33 1/3: The Final Insult (1994)', 'Made in America (1993)', 'Perfect World, A (1993)', 'Remains of the Day, The (1993)', 'Innocent Sleep, The (1995)', 'Daylight (1996)', 'Bob Roberts (1992)', 'Jackie Brown (1997)', 'Audrey Rose (1977)', 'Leaving Las Vegas (1995)', 'Substance of Fire, The (1996)', 'Interview with the Vampire (1994)', 'Last Supper, The (1995)', 'To Be or Not to Be (1942)', 'Apple Dumpling Gang, The (1975)', 'Othello (1995)', 'Craft, The (1996)', 'Terminator 2: Judgment Day (1991)', 'Mighty, The (1998)', 'Silence of the Palace, The (Saimt el Qusur) (1994)', 'Three Caballeros, The (1945)', 'Passion Fish (1992)', 'Face/Off (1997)', 'Air Up There, The (1994)', 'Dances with Wolves (1990)', 'Amityville: A New Generation (1993)', 'Mother Night (1996)', 'Just Cause (1995)', 'Pallbearer, The (1996)', 'While You Were Sleeping (1995)', 'Batman (1989)', 'Jefferson in Paris (1995)', 'Frankie Starlight (1995)', 'Switchback (1997)', 'Bad Boys (1995)', 'Mary Reilly (1996)', 'Carmen Miranda: Bananas Is My Business (1994)', 'Last Time I Saw Paris, The (1954)', 'Blown Away (1994)', 'Angela (1995)', 'Englishman Who Went Up a Hill, But Came Down a Mountain, The (1995)', 'Metro (1997)', 'Professional, The (1994)', 'S.F.W. (1994)', 'Freeway (1996)', 'Scout, The (1994)', 'Batman Forever (1995)', 'Full Monty, The (1997)', 'Being There (1979)', 'Hard Eight (1996)', \"Robert A. Heinlein's The Puppet Masters (1994)\", 'Extreme Measures (1996)', 'Broken Arrow (1996)', 'Live Nude Girls (1995)', 'Cable Guy, The (1996)', 'Aiqing wansui (1994)', 'For Richer or Poorer (1997)', 'Heavenly Creatures (1994)', 'Designated Mourner, The (1997)', \"Fathers' Day (1997)\", 'The Courtyard (1995)', 'Raiders of the Lost Ark (1981)', 'Tommy Boy (1995)', 'Falling in Love Again (1980)', 'Cape Fear (1962)', 'Aristocats, The (1970)', 'Duoluo tianshi (1995)', 'Machine, The (1994)', '12 Angry Men (1957)', 'Lay of the Land, The (1997)']\n"
          ]
        }
      ]
    }
  ]
}