{
  "nbformat": 4,
  "nbformat_minor": 0,
  "metadata": {
    "colab": {
      "provenance": [],
      "toc_visible": true,
      "authorship_tag": "ABX9TyOhsEZ+Z59nX+vO1wqVRMSd",
      "include_colab_link": true
    },
    "kernelspec": {
      "name": "python3",
      "display_name": "Python 3"
    },
    "language_info": {
      "name": "python"
    }
  },
  "cells": [
    {
      "cell_type": "markdown",
      "metadata": {
        "id": "view-in-github",
        "colab_type": "text"
      },
      "source": [
        "<a href=\"https://colab.research.google.com/github/Bpatnaik470/Bpatnaik470/blob/main/Data_Wrangling.ipynb\" target=\"_parent\"><img src=\"https://colab.research.google.com/assets/colab-badge.svg\" alt=\"Open In Colab\"/></a>"
      ]
    },
    {
      "cell_type": "code",
      "execution_count": 26,
      "metadata": {
        "colab": {
          "base_uri": "https://localhost:8080/"
        },
        "id": "paEwQNXSupO_",
        "outputId": "b4b9b6a0-b2bd-4886-97f2-2687d47695ba"
      },
      "outputs": [
        {
          "output_type": "stream",
          "name": "stdout",
          "text": [
            "Requirement already satisfied: kaggle in /usr/local/lib/python3.10/dist-packages (1.6.17)\n",
            "Requirement already satisfied: six>=1.10 in /usr/local/lib/python3.10/dist-packages (from kaggle) (1.16.0)\n",
            "Requirement already satisfied: certifi>=2023.7.22 in /usr/local/lib/python3.10/dist-packages (from kaggle) (2024.8.30)\n",
            "Requirement already satisfied: python-dateutil in /usr/local/lib/python3.10/dist-packages (from kaggle) (2.8.2)\n",
            "Requirement already satisfied: requests in /usr/local/lib/python3.10/dist-packages (from kaggle) (2.32.3)\n",
            "Requirement already satisfied: tqdm in /usr/local/lib/python3.10/dist-packages (from kaggle) (4.66.5)\n",
            "Requirement already satisfied: python-slugify in /usr/local/lib/python3.10/dist-packages (from kaggle) (8.0.4)\n",
            "Requirement already satisfied: urllib3 in /usr/local/lib/python3.10/dist-packages (from kaggle) (2.2.3)\n",
            "Requirement already satisfied: bleach in /usr/local/lib/python3.10/dist-packages (from kaggle) (6.1.0)\n",
            "Requirement already satisfied: webencodings in /usr/local/lib/python3.10/dist-packages (from bleach->kaggle) (0.5.1)\n",
            "Requirement already satisfied: text-unidecode>=1.3 in /usr/local/lib/python3.10/dist-packages (from python-slugify->kaggle) (1.3)\n",
            "Requirement already satisfied: charset-normalizer<4,>=2 in /usr/local/lib/python3.10/dist-packages (from requests->kaggle) (3.3.2)\n",
            "Requirement already satisfied: idna<4,>=2.5 in /usr/local/lib/python3.10/dist-packages (from requests->kaggle) (3.10)\n",
            "Dataset URL: https://www.kaggle.com/datasets/fedesoriano/heart-failure-prediction\n",
            "License(s): ODbL-1.0\n",
            "Downloading heart-failure-prediction.zip to /content\n",
            "  0% 0.00/8.56k [00:00<?, ?B/s]\n",
            "100% 8.56k/8.56k [00:00<00:00, 15.1MB/s]\n",
            "Index(['Age', 'Sex', 'ChestPainType', 'RestingBP', 'Cholesterol', 'FastingBS',\n",
            "       'RestingECG', 'MaxHR', 'ExerciseAngina', 'Oldpeak', 'ST_Slope',\n",
            "       'HeartDisease'],\n",
            "      dtype='object')\n"
          ]
        }
      ],
      "source": [
        "\n",
        "\n",
        "\n",
        "import warnings\n",
        "warnings.filterwarnings('ignore')\n",
        "\n",
        "import numpy as np\n",
        "import pandas as pd\n",
        "import matplotlib.pyplot as plt\n",
        "import seaborn as sns\n",
        "from matplotlib.colors import ListedColormap\n",
        "from sklearn.model_selection import train_test_split\n",
        "from scipy.stats import boxcox\n",
        "from sklearn.pipeline import Pipeline\n",
        "from sklearn.preprocessing import StandardScaler\n",
        "from sklearn.neighbors import KNeighborsClassifier\n",
        "from sklearn.svm import SVC\n",
        "from sklearn.model_selection import GridSearchCV, StratifiedKFold\n",
        "from sklearn.metrics import classification_report, accuracy_score\n",
        "from sklearn.tree import DecisionTreeClassifier\n",
        "from sklearn.ensemble import RandomForestClassifier\n",
        "!pip install kaggle\n",
        "!kaggle datasets download -d fedesoriano/heart-failure-prediction --unzip -p /content\n",
        "\n",
        "# Read dataset\n",
        "try:\n",
        "    df = pd.read_csv('/content/heart.csv')\n",
        "except FileNotFoundError:\n",
        "    df = pd.read_csv('heart.csv')\n",
        "\n",
        "# Print the actual column names to inspect them\n",
        "print(df.columns)\n",
        "\n",
        "# Convert categorical variables to numerical using one-hot encoding\n",
        "# Adjust these column names to match your DataFrame's columns exactly\n",
        "categorical_cols = ['Sex', 'ChestPainType', 'RestingECG', 'ExerciseAngina', 'ST_Slope']\n",
        "\n",
        "# Create a dictionary to map original column names to cleaned column names\n",
        "col_mapping = {col: col.strip() for col in df.columns}\n",
        "df = df.rename(columns=col_mapping)\n",
        "\n",
        "# Check if all categorical columns are present in the DataFrame\n",
        "missing_cols = [col for col in categorical_cols if col not in df.columns]\n",
        "if missing_cols:\n",
        "    raise KeyError(f\"The following columns are missing in the DataFrame: {missing_cols}\")\n",
        "\n",
        "# Perform one-hot encoding\n",
        "df = pd.get_dummies(df, columns=categorical_cols)\n",
        "\n",
        "# Handle missing values (if any) using mean imputation\n",
        "for column in df.columns:\n",
        "    if df[column].isnull().any():\n",
        "        df[column].fillna(df[column].mean(), inplace=True)\n",
        "\n",
        "# Scale numerical features\n",
        "numerical_features = ['Age', 'RestingBP', 'Cholesterol', 'MaxHR', 'Oldpeak']\n",
        "scaler = StandardScaler()\n",
        "df[numerical_features] = scaler.fit_transform(df[numerical_features])\n"
      ]
    },
    {
      "cell_type": "markdown",
      "source": [
        "# New Section"
      ],
      "metadata": {
        "id": "zwM9auq-SoEO"
      }
    }
  ]
}